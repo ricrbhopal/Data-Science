{
 "cells": [
  {
   "cell_type": "code",
   "execution_count": 1,
   "metadata": {},
   "outputs": [],
   "source": [
    "import pandas as pd\n",
    "import matplotlib.pyplot as plt"
   ]
  },
  {
   "cell_type": "code",
   "execution_count": 3,
   "metadata": {},
   "outputs": [],
   "source": [
    "original_df = pd.read_csv(\"Datasets/engineering colleges in India.csv\")"
   ]
  },
  {
   "cell_type": "code",
   "execution_count": 42,
   "metadata": {},
   "outputs": [
    {
     "data": {
      "text/html": [
       "<div>\n",
       "<style scoped>\n",
       "    .dataframe tbody tr th:only-of-type {\n",
       "        vertical-align: middle;\n",
       "    }\n",
       "\n",
       "    .dataframe tbody tr th {\n",
       "        vertical-align: top;\n",
       "    }\n",
       "\n",
       "    .dataframe thead th {\n",
       "        text-align: right;\n",
       "    }\n",
       "</style>\n",
       "<table border=\"1\" class=\"dataframe\">\n",
       "  <thead>\n",
       "    <tr style=\"text-align: right;\">\n",
       "      <th></th>\n",
       "      <th>College Name</th>\n",
       "      <th>Genders Accepted</th>\n",
       "      <th>Campus Size</th>\n",
       "      <th>Total Student Enrollments</th>\n",
       "      <th>Total Faculty</th>\n",
       "      <th>Established Year</th>\n",
       "      <th>Rating</th>\n",
       "      <th>University</th>\n",
       "      <th>Courses</th>\n",
       "      <th>Facilities</th>\n",
       "      <th>City</th>\n",
       "      <th>State</th>\n",
       "      <th>Country</th>\n",
       "      <th>College Type</th>\n",
       "      <th>Average Fees</th>\n",
       "    </tr>\n",
       "  </thead>\n",
       "  <tbody>\n",
       "    <tr>\n",
       "      <th>0</th>\n",
       "      <td>National Institute of Technology Rourkela</td>\n",
       "      <td>Co-Ed</td>\n",
       "      <td>647 Acres</td>\n",
       "      <td>4811</td>\n",
       "      <td>329</td>\n",
       "      <td>2007</td>\n",
       "      <td>3.12</td>\n",
       "      <td>NaN</td>\n",
       "      <td>B.Tech Mechanical Engineering, B.Tech Computer...</td>\n",
       "      <td>Boys Hostel, Girls Hostel, Gym, Library, Sport...</td>\n",
       "      <td>Rourkela</td>\n",
       "      <td>Odisha</td>\n",
       "      <td>India</td>\n",
       "      <td>Public/Government</td>\n",
       "      <td>350600</td>\n",
       "    </tr>\n",
       "    <tr>\n",
       "      <th>1</th>\n",
       "      <td>Visvesvaraya National Institute of Technology ...</td>\n",
       "      <td>Co-Ed</td>\n",
       "      <td>215 Acres</td>\n",
       "      <td>1071</td>\n",
       "      <td>192</td>\n",
       "      <td>2007</td>\n",
       "      <td>NaN</td>\n",
       "      <td>NaN</td>\n",
       "      <td>B.Tech Computer Science Engineering, B.Tech El...</td>\n",
       "      <td>Boys Hostel, Girls Hostel, Gym, Library, Sport...</td>\n",
       "      <td>Nagpur</td>\n",
       "      <td>Maharashtra</td>\n",
       "      <td>India</td>\n",
       "      <td>Public/Government</td>\n",
       "      <td>273596.6667</td>\n",
       "    </tr>\n",
       "  </tbody>\n",
       "</table>\n",
       "</div>"
      ],
      "text/plain": [
       "                                        College Name Genders Accepted  \\\n",
       "0         National Institute of Technology Rourkela             Co-Ed   \n",
       "1  Visvesvaraya National Institute of Technology ...            Co-Ed   \n",
       "\n",
       "  Campus Size Total Student Enrollments Total Faculty Established Year Rating  \\\n",
       "0   647 Acres                      4811           329             2007   3.12   \n",
       "1   215 Acres                      1071           192             2007    NaN   \n",
       "\n",
       "  University                                            Courses  \\\n",
       "0        NaN  B.Tech Mechanical Engineering, B.Tech Computer...   \n",
       "1        NaN  B.Tech Computer Science Engineering, B.Tech El...   \n",
       "\n",
       "                                          Facilities      City        State  \\\n",
       "0  Boys Hostel, Girls Hostel, Gym, Library, Sport...  Rourkela       Odisha   \n",
       "1  Boys Hostel, Girls Hostel, Gym, Library, Sport...    Nagpur  Maharashtra   \n",
       "\n",
       "  Country       College Type Average Fees  \n",
       "0   India  Public/Government       350600  \n",
       "1   India  Public/Government  273596.6667  "
      ]
     },
     "execution_count": 42,
     "metadata": {},
     "output_type": "execute_result"
    }
   ],
   "source": [
    "original_df.head(2)"
   ]
  },
  {
   "cell_type": "code",
   "execution_count": 4,
   "metadata": {},
   "outputs": [],
   "source": [
    "df = original_df.copy()"
   ]
  },
  {
   "cell_type": "code",
   "execution_count": 5,
   "metadata": {},
   "outputs": [
    {
     "data": {
      "text/html": [
       "<div>\n",
       "<style scoped>\n",
       "    .dataframe tbody tr th:only-of-type {\n",
       "        vertical-align: middle;\n",
       "    }\n",
       "\n",
       "    .dataframe tbody tr th {\n",
       "        vertical-align: top;\n",
       "    }\n",
       "\n",
       "    .dataframe thead th {\n",
       "        text-align: right;\n",
       "    }\n",
       "</style>\n",
       "<table border=\"1\" class=\"dataframe\">\n",
       "  <thead>\n",
       "    <tr style=\"text-align: right;\">\n",
       "      <th></th>\n",
       "      <th>College Name</th>\n",
       "      <th>Genders Accepted</th>\n",
       "      <th>Campus Size</th>\n",
       "      <th>Total Student Enrollments</th>\n",
       "      <th>Total Faculty</th>\n",
       "      <th>Established Year</th>\n",
       "      <th>Rating</th>\n",
       "      <th>University</th>\n",
       "      <th>Courses</th>\n",
       "      <th>Facilities</th>\n",
       "      <th>City</th>\n",
       "      <th>State</th>\n",
       "      <th>Country</th>\n",
       "      <th>College Type</th>\n",
       "      <th>Average Fees</th>\n",
       "    </tr>\n",
       "  </thead>\n",
       "  <tbody>\n",
       "    <tr>\n",
       "      <th>0</th>\n",
       "      <td>National Institute of Technology Rourkela</td>\n",
       "      <td>Co-Ed</td>\n",
       "      <td>647 Acres</td>\n",
       "      <td>4811</td>\n",
       "      <td>329</td>\n",
       "      <td>2007</td>\n",
       "      <td>3.12</td>\n",
       "      <td>NaN</td>\n",
       "      <td>B.Tech Mechanical Engineering, B.Tech Computer...</td>\n",
       "      <td>Boys Hostel, Girls Hostel, Gym, Library, Sport...</td>\n",
       "      <td>Rourkela</td>\n",
       "      <td>Odisha</td>\n",
       "      <td>India</td>\n",
       "      <td>Public/Government</td>\n",
       "      <td>350600</td>\n",
       "    </tr>\n",
       "    <tr>\n",
       "      <th>1</th>\n",
       "      <td>Visvesvaraya National Institute of Technology ...</td>\n",
       "      <td>Co-Ed</td>\n",
       "      <td>215 Acres</td>\n",
       "      <td>1071</td>\n",
       "      <td>192</td>\n",
       "      <td>2007</td>\n",
       "      <td>NaN</td>\n",
       "      <td>NaN</td>\n",
       "      <td>B.Tech Computer Science Engineering, B.Tech El...</td>\n",
       "      <td>Boys Hostel, Girls Hostel, Gym, Library, Sport...</td>\n",
       "      <td>Nagpur</td>\n",
       "      <td>Maharashtra</td>\n",
       "      <td>India</td>\n",
       "      <td>Public/Government</td>\n",
       "      <td>273596.6667</td>\n",
       "    </tr>\n",
       "  </tbody>\n",
       "</table>\n",
       "</div>"
      ],
      "text/plain": [
       "                                        College Name Genders Accepted  \\\n",
       "0         National Institute of Technology Rourkela             Co-Ed   \n",
       "1  Visvesvaraya National Institute of Technology ...            Co-Ed   \n",
       "\n",
       "  Campus Size Total Student Enrollments Total Faculty Established Year Rating  \\\n",
       "0   647 Acres                      4811           329             2007   3.12   \n",
       "1   215 Acres                      1071           192             2007    NaN   \n",
       "\n",
       "  University                                            Courses  \\\n",
       "0        NaN  B.Tech Mechanical Engineering, B.Tech Computer...   \n",
       "1        NaN  B.Tech Computer Science Engineering, B.Tech El...   \n",
       "\n",
       "                                          Facilities      City        State  \\\n",
       "0  Boys Hostel, Girls Hostel, Gym, Library, Sport...  Rourkela       Odisha   \n",
       "1  Boys Hostel, Girls Hostel, Gym, Library, Sport...    Nagpur  Maharashtra   \n",
       "\n",
       "  Country       College Type Average Fees  \n",
       "0   India  Public/Government       350600  \n",
       "1   India  Public/Government  273596.6667  "
      ]
     },
     "execution_count": 5,
     "metadata": {},
     "output_type": "execute_result"
    }
   ],
   "source": [
    "df.head(2)"
   ]
  },
  {
   "cell_type": "code",
   "execution_count": 6,
   "metadata": {},
   "outputs": [],
   "source": [
    "df = df.drop(columns=['Courses','Campus Size','Rating','University'])"
   ]
  },
  {
   "cell_type": "code",
   "execution_count": 7,
   "metadata": {},
   "outputs": [
    {
     "data": {
      "text/html": [
       "<div>\n",
       "<style scoped>\n",
       "    .dataframe tbody tr th:only-of-type {\n",
       "        vertical-align: middle;\n",
       "    }\n",
       "\n",
       "    .dataframe tbody tr th {\n",
       "        vertical-align: top;\n",
       "    }\n",
       "\n",
       "    .dataframe thead th {\n",
       "        text-align: right;\n",
       "    }\n",
       "</style>\n",
       "<table border=\"1\" class=\"dataframe\">\n",
       "  <thead>\n",
       "    <tr style=\"text-align: right;\">\n",
       "      <th></th>\n",
       "      <th>College Name</th>\n",
       "      <th>Genders Accepted</th>\n",
       "      <th>Total Student Enrollments</th>\n",
       "      <th>Total Faculty</th>\n",
       "      <th>Established Year</th>\n",
       "      <th>Facilities</th>\n",
       "      <th>City</th>\n",
       "      <th>State</th>\n",
       "      <th>Country</th>\n",
       "      <th>College Type</th>\n",
       "      <th>Average Fees</th>\n",
       "    </tr>\n",
       "  </thead>\n",
       "  <tbody>\n",
       "    <tr>\n",
       "      <th>0</th>\n",
       "      <td>National Institute of Technology Rourkela</td>\n",
       "      <td>Co-Ed</td>\n",
       "      <td>4811</td>\n",
       "      <td>329</td>\n",
       "      <td>2007</td>\n",
       "      <td>Boys Hostel, Girls Hostel, Gym, Library, Sport...</td>\n",
       "      <td>Rourkela</td>\n",
       "      <td>Odisha</td>\n",
       "      <td>India</td>\n",
       "      <td>Public/Government</td>\n",
       "      <td>350600</td>\n",
       "    </tr>\n",
       "    <tr>\n",
       "      <th>1</th>\n",
       "      <td>Visvesvaraya National Institute of Technology ...</td>\n",
       "      <td>Co-Ed</td>\n",
       "      <td>1071</td>\n",
       "      <td>192</td>\n",
       "      <td>2007</td>\n",
       "      <td>Boys Hostel, Girls Hostel, Gym, Library, Sport...</td>\n",
       "      <td>Nagpur</td>\n",
       "      <td>Maharashtra</td>\n",
       "      <td>India</td>\n",
       "      <td>Public/Government</td>\n",
       "      <td>273596.6667</td>\n",
       "    </tr>\n",
       "  </tbody>\n",
       "</table>\n",
       "</div>"
      ],
      "text/plain": [
       "                                        College Name Genders Accepted  \\\n",
       "0         National Institute of Technology Rourkela             Co-Ed   \n",
       "1  Visvesvaraya National Institute of Technology ...            Co-Ed   \n",
       "\n",
       "  Total Student Enrollments Total Faculty Established Year  \\\n",
       "0                      4811           329             2007   \n",
       "1                      1071           192             2007   \n",
       "\n",
       "                                          Facilities      City        State  \\\n",
       "0  Boys Hostel, Girls Hostel, Gym, Library, Sport...  Rourkela       Odisha   \n",
       "1  Boys Hostel, Girls Hostel, Gym, Library, Sport...    Nagpur  Maharashtra   \n",
       "\n",
       "  Country       College Type Average Fees  \n",
       "0   India  Public/Government       350600  \n",
       "1   India  Public/Government  273596.6667  "
      ]
     },
     "execution_count": 7,
     "metadata": {},
     "output_type": "execute_result"
    }
   ],
   "source": [
    "df.head(2)"
   ]
  },
  {
   "cell_type": "code",
   "execution_count": 8,
   "metadata": {},
   "outputs": [
    {
     "name": "stdout",
     "output_type": "stream",
     "text": [
      "<class 'pandas.core.frame.DataFrame'>\n",
      "RangeIndex: 5445 entries, 0 to 5444\n",
      "Data columns (total 11 columns):\n",
      " #   Column                     Non-Null Count  Dtype \n",
      "---  ------                     --------------  ----- \n",
      " 0   College Name               5445 non-null   object\n",
      " 1   Genders Accepted           5427 non-null   object\n",
      " 2   Total Student Enrollments  4442 non-null   object\n",
      " 3   Total Faculty              5284 non-null   object\n",
      " 4   Established Year           5344 non-null   object\n",
      " 5   Facilities                 5433 non-null   object\n",
      " 6   City                       5445 non-null   object\n",
      " 7   State                      5445 non-null   object\n",
      " 8   Country                    5445 non-null   object\n",
      " 9   College Type               5444 non-null   object\n",
      " 10  Average Fees               5445 non-null   object\n",
      "dtypes: object(11)\n",
      "memory usage: 468.1+ KB\n"
     ]
    }
   ],
   "source": [
    "df.info()"
   ]
  },
  {
   "cell_type": "code",
   "execution_count": 9,
   "metadata": {},
   "outputs": [],
   "source": [
    "df['Average Fees'] = pd.to_numeric(df['Average Fees'], errors='coerce')\n",
    "df['Total Student Enrollments'] = pd.to_numeric(df['Total Student Enrollments'], errors='coerce')\n",
    "df['Total Faculty'] = pd.to_numeric(df['Total Faculty'], errors='coerce')\n",
    "df['Established Year'] = pd.to_numeric(df['Established Year'], errors='coerce')"
   ]
  },
  {
   "cell_type": "code",
   "execution_count": 10,
   "metadata": {},
   "outputs": [
    {
     "name": "stdout",
     "output_type": "stream",
     "text": [
      "<class 'pandas.core.frame.DataFrame'>\n",
      "RangeIndex: 5445 entries, 0 to 5444\n",
      "Data columns (total 11 columns):\n",
      " #   Column                     Non-Null Count  Dtype  \n",
      "---  ------                     --------------  -----  \n",
      " 0   College Name               5445 non-null   object \n",
      " 1   Genders Accepted           5427 non-null   object \n",
      " 2   Total Student Enrollments  4436 non-null   float64\n",
      " 3   Total Faculty              5278 non-null   float64\n",
      " 4   Established Year           5338 non-null   float64\n",
      " 5   Facilities                 5433 non-null   object \n",
      " 6   City                       5445 non-null   object \n",
      " 7   State                      5445 non-null   object \n",
      " 8   Country                    5445 non-null   object \n",
      " 9   College Type               5444 non-null   object \n",
      " 10  Average Fees               5439 non-null   float64\n",
      "dtypes: float64(4), object(7)\n",
      "memory usage: 468.1+ KB\n"
     ]
    }
   ],
   "source": [
    "df.info()"
   ]
  },
  {
   "cell_type": "markdown",
   "metadata": {},
   "source": [
    "# Line plot   \n",
    " - Represents number of colleges established in every year after 1980."
   ]
  },
  {
   "cell_type": "code",
   "execution_count": 11,
   "metadata": {},
   "outputs": [],
   "source": [
    "year_groupby = df.groupby(['Established Year'])"
   ]
  },
  {
   "cell_type": "code",
   "execution_count": 12,
   "metadata": {},
   "outputs": [
    {
     "data": {
      "text/plain": [
       "110"
      ]
     },
     "execution_count": 12,
     "metadata": {},
     "output_type": "execute_result"
    }
   ],
   "source": [
    "len(year_groupby)"
   ]
  },
  {
   "cell_type": "code",
   "execution_count": 13,
   "metadata": {},
   "outputs": [],
   "source": [
    "year_df = year_groupby[['College Name']].count().reset_index()"
   ]
  },
  {
   "cell_type": "code",
   "execution_count": 14,
   "metadata": {},
   "outputs": [],
   "source": [
    "year_df = year_df.rename(columns={'College Name' : 'College Count'})"
   ]
  },
  {
   "cell_type": "code",
   "execution_count": 15,
   "metadata": {},
   "outputs": [
    {
     "data": {
      "text/html": [
       "<div>\n",
       "<style scoped>\n",
       "    .dataframe tbody tr th:only-of-type {\n",
       "        vertical-align: middle;\n",
       "    }\n",
       "\n",
       "    .dataframe tbody tr th {\n",
       "        vertical-align: top;\n",
       "    }\n",
       "\n",
       "    .dataframe thead th {\n",
       "        text-align: right;\n",
       "    }\n",
       "</style>\n",
       "<table border=\"1\" class=\"dataframe\">\n",
       "  <thead>\n",
       "    <tr style=\"text-align: right;\">\n",
       "      <th></th>\n",
       "      <th>Established Year</th>\n",
       "      <th>College Count</th>\n",
       "    </tr>\n",
       "  </thead>\n",
       "  <tbody>\n",
       "    <tr>\n",
       "      <th>106</th>\n",
       "      <td>2016.0</td>\n",
       "      <td>39</td>\n",
       "    </tr>\n",
       "    <tr>\n",
       "      <th>107</th>\n",
       "      <td>2017.0</td>\n",
       "      <td>23</td>\n",
       "    </tr>\n",
       "    <tr>\n",
       "      <th>108</th>\n",
       "      <td>2018.0</td>\n",
       "      <td>5</td>\n",
       "    </tr>\n",
       "    <tr>\n",
       "      <th>109</th>\n",
       "      <td>2019.0</td>\n",
       "      <td>1</td>\n",
       "    </tr>\n",
       "  </tbody>\n",
       "</table>\n",
       "</div>"
      ],
      "text/plain": [
       "     Established Year  College Count\n",
       "106            2016.0             39\n",
       "107            2017.0             23\n",
       "108            2018.0              5\n",
       "109            2019.0              1"
      ]
     },
     "execution_count": 15,
     "metadata": {},
     "output_type": "execute_result"
    }
   ],
   "source": [
    "year_df.tail(4)"
   ]
  },
  {
   "cell_type": "code",
   "execution_count": 16,
   "metadata": {},
   "outputs": [],
   "source": [
    "x = year_df[year_df['Established Year'] > 1980]['Established Year']\n",
    "y = year_df[year_df['Established Year'] > 1980]['College Count']"
   ]
  },
  {
   "cell_type": "code",
   "execution_count": 17,
   "metadata": {},
   "outputs": [
    {
     "data": {
      "image/png": "[encoded data removed]",
      "text/plain": [
       "<Figure size 800x600 with 1 Axes>"
      ]
     },
     "metadata": {},
     "output_type": "display_data"
    }
   ],
   "source": [
    "plt.figure(figsize=(8,6))\n",
    "plt.plot(x,y,linewidth = 2,marker = 'o',c='black')\n",
    "plt.xlabel('Established Year')\n",
    "plt.ylabel('College Count')\n",
    "plt.grid()\n",
    "plt.show()"
   ]
  },
  {
   "cell_type": "markdown",
   "metadata": {},
   "source": [
    "# Histogram   \n",
    " - Represent the count of students enrolled in each year after 2000"
   ]
  },
  {
   "cell_type": "code",
   "execution_count": 18,
   "metadata": {},
   "outputs": [],
   "source": [
    "hist_df = df[df['Established Year'] > 2000]"
   ]
  },
  {
   "cell_type": "code",
   "execution_count": 19,
   "metadata": {},
   "outputs": [
    {
     "data": {
      "text/html": [
       "<div>\n",
       "<style scoped>\n",
       "    .dataframe tbody tr th:only-of-type {\n",
       "        vertical-align: middle;\n",
       "    }\n",
       "\n",
       "    .dataframe tbody tr th {\n",
       "        vertical-align: top;\n",
       "    }\n",
       "\n",
       "    .dataframe thead th {\n",
       "        text-align: right;\n",
       "    }\n",
       "</style>\n",
       "<table border=\"1\" class=\"dataframe\">\n",
       "  <thead>\n",
       "    <tr style=\"text-align: right;\">\n",
       "      <th></th>\n",
       "      <th>College Name</th>\n",
       "      <th>Genders Accepted</th>\n",
       "      <th>Total Student Enrollments</th>\n",
       "      <th>Total Faculty</th>\n",
       "      <th>Established Year</th>\n",
       "      <th>Facilities</th>\n",
       "      <th>City</th>\n",
       "      <th>State</th>\n",
       "      <th>Country</th>\n",
       "      <th>College Type</th>\n",
       "      <th>Average Fees</th>\n",
       "    </tr>\n",
       "  </thead>\n",
       "  <tbody>\n",
       "    <tr>\n",
       "      <th>0</th>\n",
       "      <td>National Institute of Technology Rourkela</td>\n",
       "      <td>Co-Ed</td>\n",
       "      <td>4811.0</td>\n",
       "      <td>329.0</td>\n",
       "      <td>2007.0</td>\n",
       "      <td>Boys Hostel, Girls Hostel, Gym, Library, Sport...</td>\n",
       "      <td>Rourkela</td>\n",
       "      <td>Odisha</td>\n",
       "      <td>India</td>\n",
       "      <td>Public/Government</td>\n",
       "      <td>350600.0000</td>\n",
       "    </tr>\n",
       "    <tr>\n",
       "      <th>1</th>\n",
       "      <td>Visvesvaraya National Institute of Technology ...</td>\n",
       "      <td>Co-Ed</td>\n",
       "      <td>1071.0</td>\n",
       "      <td>192.0</td>\n",
       "      <td>2007.0</td>\n",
       "      <td>Boys Hostel, Girls Hostel, Gym, Library, Sport...</td>\n",
       "      <td>Nagpur</td>\n",
       "      <td>Maharashtra</td>\n",
       "      <td>India</td>\n",
       "      <td>Public/Government</td>\n",
       "      <td>273596.6667</td>\n",
       "    </tr>\n",
       "  </tbody>\n",
       "</table>\n",
       "</div>"
      ],
      "text/plain": [
       "                                        College Name Genders Accepted  \\\n",
       "0         National Institute of Technology Rourkela             Co-Ed   \n",
       "1  Visvesvaraya National Institute of Technology ...            Co-Ed   \n",
       "\n",
       "   Total Student Enrollments  Total Faculty  Established Year  \\\n",
       "0                     4811.0          329.0            2007.0   \n",
       "1                     1071.0          192.0            2007.0   \n",
       "\n",
       "                                          Facilities      City        State  \\\n",
       "0  Boys Hostel, Girls Hostel, Gym, Library, Sport...  Rourkela       Odisha   \n",
       "1  Boys Hostel, Girls Hostel, Gym, Library, Sport...    Nagpur  Maharashtra   \n",
       "\n",
       "  Country       College Type  Average Fees  \n",
       "0   India  Public/Government   350600.0000  \n",
       "1   India  Public/Government   273596.6667  "
      ]
     },
     "execution_count": 19,
     "metadata": {},
     "output_type": "execute_result"
    }
   ],
   "source": [
    "hist_df.head(2)"
   ]
  },
  {
   "cell_type": "code",
   "execution_count": 20,
   "metadata": {},
   "outputs": [],
   "source": [
    "df['Established Year'] = df['Established Year'].astype('Int64')"
   ]
  },
  {
   "cell_type": "code",
   "execution_count": 21,
   "metadata": {},
   "outputs": [
    {
     "name": "stdout",
     "output_type": "stream",
     "text": [
      "<class 'pandas.core.frame.DataFrame'>\n",
      "RangeIndex: 5445 entries, 0 to 5444\n",
      "Data columns (total 11 columns):\n",
      " #   Column                     Non-Null Count  Dtype  \n",
      "---  ------                     --------------  -----  \n",
      " 0   College Name               5445 non-null   object \n",
      " 1   Genders Accepted           5427 non-null   object \n",
      " 2   Total Student Enrollments  4436 non-null   float64\n",
      " 3   Total Faculty              5278 non-null   float64\n",
      " 4   Established Year           5338 non-null   Int64  \n",
      " 5   Facilities                 5433 non-null   object \n",
      " 6   City                       5445 non-null   object \n",
      " 7   State                      5445 non-null   object \n",
      " 8   Country                    5445 non-null   object \n",
      " 9   College Type               5444 non-null   object \n",
      " 10  Average Fees               5439 non-null   float64\n",
      "dtypes: Int64(1), float64(3), object(7)\n",
      "memory usage: 473.4+ KB\n"
     ]
    }
   ],
   "source": [
    "df.info()"
   ]
  },
  {
   "cell_type": "code",
   "execution_count": 22,
   "metadata": {},
   "outputs": [],
   "source": [
    "x = hist_df['Established Year']"
   ]
  },
  {
   "cell_type": "code",
   "execution_count": 23,
   "metadata": {},
   "outputs": [
    {
     "data": {
      "image/png": "[encoded data removed]",
      "text/plain": [
       "<Figure size 640x480 with 1 Axes>"
      ]
     },
     "metadata": {},
     "output_type": "display_data"
    }
   ],
   "source": [
    "plt.hist(x,color='m',edgecolor='r',bins=15)\n",
    "plt.show()"
   ]
  },
  {
   "cell_type": "code",
   "execution_count": 24,
   "metadata": {},
   "outputs": [
    {
     "data": {
      "text/plain": [
       "np.float64(1035081.0)"
      ]
     },
     "execution_count": 24,
     "metadata": {},
     "output_type": "execute_result"
    }
   ],
   "source": [
    "df['Total Student Enrollments'].max()"
   ]
  },
  {
   "cell_type": "code",
   "execution_count": 25,
   "metadata": {},
   "outputs": [],
   "source": [
    "scatter_df = df[df['Average Fees'] < 1000000]"
   ]
  },
  {
   "cell_type": "code",
   "execution_count": 26,
   "metadata": {},
   "outputs": [],
   "source": [
    "scatter_df = scatter_df[scatter_df['Total Student Enrollments'] < 10000]"
   ]
  },
  {
   "cell_type": "code",
   "execution_count": 27,
   "metadata": {},
   "outputs": [
    {
     "data": {
      "text/html": [
       "<div>\n",
       "<style scoped>\n",
       "    .dataframe tbody tr th:only-of-type {\n",
       "        vertical-align: middle;\n",
       "    }\n",
       "\n",
       "    .dataframe tbody tr th {\n",
       "        vertical-align: top;\n",
       "    }\n",
       "\n",
       "    .dataframe thead th {\n",
       "        text-align: right;\n",
       "    }\n",
       "</style>\n",
       "<table border=\"1\" class=\"dataframe\">\n",
       "  <thead>\n",
       "    <tr style=\"text-align: right;\">\n",
       "      <th></th>\n",
       "      <th>College Name</th>\n",
       "      <th>Genders Accepted</th>\n",
       "      <th>Total Student Enrollments</th>\n",
       "      <th>Total Faculty</th>\n",
       "      <th>Established Year</th>\n",
       "      <th>Facilities</th>\n",
       "      <th>City</th>\n",
       "      <th>State</th>\n",
       "      <th>Country</th>\n",
       "      <th>College Type</th>\n",
       "      <th>Average Fees</th>\n",
       "    </tr>\n",
       "  </thead>\n",
       "  <tbody>\n",
       "    <tr>\n",
       "      <th>0</th>\n",
       "      <td>National Institute of Technology Rourkela</td>\n",
       "      <td>Co-Ed</td>\n",
       "      <td>4811.0</td>\n",
       "      <td>329.0</td>\n",
       "      <td>2007</td>\n",
       "      <td>Boys Hostel, Girls Hostel, Gym, Library, Sport...</td>\n",
       "      <td>Rourkela</td>\n",
       "      <td>Odisha</td>\n",
       "      <td>India</td>\n",
       "      <td>Public/Government</td>\n",
       "      <td>350600.0000</td>\n",
       "    </tr>\n",
       "    <tr>\n",
       "      <th>1</th>\n",
       "      <td>Visvesvaraya National Institute of Technology ...</td>\n",
       "      <td>Co-Ed</td>\n",
       "      <td>1071.0</td>\n",
       "      <td>192.0</td>\n",
       "      <td>2007</td>\n",
       "      <td>Boys Hostel, Girls Hostel, Gym, Library, Sport...</td>\n",
       "      <td>Nagpur</td>\n",
       "      <td>Maharashtra</td>\n",
       "      <td>India</td>\n",
       "      <td>Public/Government</td>\n",
       "      <td>273596.6667</td>\n",
       "    </tr>\n",
       "  </tbody>\n",
       "</table>\n",
       "</div>"
      ],
      "text/plain": [
       "                                        College Name Genders Accepted  \\\n",
       "0         National Institute of Technology Rourkela             Co-Ed   \n",
       "1  Visvesvaraya National Institute of Technology ...            Co-Ed   \n",
       "\n",
       "   Total Student Enrollments  Total Faculty  Established Year  \\\n",
       "0                     4811.0          329.0              2007   \n",
       "1                     1071.0          192.0              2007   \n",
       "\n",
       "                                          Facilities      City        State  \\\n",
       "0  Boys Hostel, Girls Hostel, Gym, Library, Sport...  Rourkela       Odisha   \n",
       "1  Boys Hostel, Girls Hostel, Gym, Library, Sport...    Nagpur  Maharashtra   \n",
       "\n",
       "  Country       College Type  Average Fees  \n",
       "0   India  Public/Government   350600.0000  \n",
       "1   India  Public/Government   273596.6667  "
      ]
     },
     "execution_count": 27,
     "metadata": {},
     "output_type": "execute_result"
    }
   ],
   "source": [
    "scatter_df.head(2)"
   ]
  },
  {
   "cell_type": "code",
   "execution_count": 28,
   "metadata": {},
   "outputs": [
    {
     "name": "stdout",
     "output_type": "stream",
     "text": [
      "<class 'pandas.core.frame.DataFrame'>\n",
      "Index: 4360 entries, 0 to 5443\n",
      "Data columns (total 11 columns):\n",
      " #   Column                     Non-Null Count  Dtype  \n",
      "---  ------                     --------------  -----  \n",
      " 0   College Name               4360 non-null   object \n",
      " 1   Genders Accepted           4357 non-null   object \n",
      " 2   Total Student Enrollments  4360 non-null   float64\n",
      " 3   Total Faculty              4303 non-null   float64\n",
      " 4   Established Year           4343 non-null   Int64  \n",
      " 5   Facilities                 4357 non-null   object \n",
      " 6   City                       4360 non-null   object \n",
      " 7   State                      4360 non-null   object \n",
      " 8   Country                    4360 non-null   object \n",
      " 9   College Type               4360 non-null   object \n",
      " 10  Average Fees               4360 non-null   float64\n",
      "dtypes: Int64(1), float64(3), object(7)\n",
      "memory usage: 413.0+ KB\n"
     ]
    }
   ],
   "source": [
    "scatter_df.info()"
   ]
  },
  {
   "cell_type": "code",
   "execution_count": 29,
   "metadata": {},
   "outputs": [],
   "source": [
    "scatter_df['Average Fees'] = scatter_df['Average Fees'].astype(int)\n",
    "scatter_df['Total Student Enrollments'] = scatter_df['Total Student Enrollments'].astype(int)"
   ]
  },
  {
   "cell_type": "code",
   "execution_count": 30,
   "metadata": {},
   "outputs": [
    {
     "name": "stdout",
     "output_type": "stream",
     "text": [
      "<class 'pandas.core.frame.DataFrame'>\n",
      "Index: 4360 entries, 0 to 5443\n",
      "Data columns (total 11 columns):\n",
      " #   Column                     Non-Null Count  Dtype  \n",
      "---  ------                     --------------  -----  \n",
      " 0   College Name               4360 non-null   object \n",
      " 1   Genders Accepted           4357 non-null   object \n",
      " 2   Total Student Enrollments  4360 non-null   int64  \n",
      " 3   Total Faculty              4303 non-null   float64\n",
      " 4   Established Year           4343 non-null   Int64  \n",
      " 5   Facilities                 4357 non-null   object \n",
      " 6   City                       4360 non-null   object \n",
      " 7   State                      4360 non-null   object \n",
      " 8   Country                    4360 non-null   object \n",
      " 9   College Type               4360 non-null   object \n",
      " 10  Average Fees               4360 non-null   int64  \n",
      "dtypes: Int64(1), float64(1), int64(2), object(7)\n",
      "memory usage: 413.0+ KB\n"
     ]
    }
   ],
   "source": [
    "scatter_df.info()"
   ]
  },
  {
   "cell_type": "code",
   "execution_count": 31,
   "metadata": {},
   "outputs": [
    {
     "data": {
      "image/png": "[encoded data removed]",
      "text/plain": [
       "<Figure size 640x480 with 1 Axes>"
      ]
     },
     "metadata": {},
     "output_type": "display_data"
    }
   ],
   "source": [
    "plt.scatter(scatter_df['Average Fees'],scatter_df['Total Student Enrollments'])\n",
    "plt.show()"
   ]
  },
  {
   "cell_type": "markdown",
   "metadata": {},
   "source": [
    "# Pie Chart   \n",
    " - Number of colleges in each state whose count is greater than 100"
   ]
  },
  {
   "cell_type": "code",
   "execution_count": 32,
   "metadata": {},
   "outputs": [],
   "source": [
    "states_groupby = df.groupby(['State'])"
   ]
  },
  {
   "cell_type": "code",
   "execution_count": 33,
   "metadata": {},
   "outputs": [],
   "source": [
    "no_of_colleges = states_groupby[['College Name']].count()"
   ]
  },
  {
   "cell_type": "code",
   "execution_count": 34,
   "metadata": {},
   "outputs": [],
   "source": [
    "no_of_colleges = no_of_colleges.rename(columns={'College Name' : 'College Count'})"
   ]
  },
  {
   "cell_type": "code",
   "execution_count": 35,
   "metadata": {},
   "outputs": [],
   "source": [
    "no_of_colleges = no_of_colleges.reset_index()"
   ]
  },
  {
   "cell_type": "code",
   "execution_count": 36,
   "metadata": {},
   "outputs": [
    {
     "data": {
      "text/html": [
       "<div>\n",
       "<style scoped>\n",
       "    .dataframe tbody tr th:only-of-type {\n",
       "        vertical-align: middle;\n",
       "    }\n",
       "\n",
       "    .dataframe tbody tr th {\n",
       "        vertical-align: top;\n",
       "    }\n",
       "\n",
       "    .dataframe thead th {\n",
       "        text-align: right;\n",
       "    }\n",
       "</style>\n",
       "<table border=\"1\" class=\"dataframe\">\n",
       "  <thead>\n",
       "    <tr style=\"text-align: right;\">\n",
       "      <th></th>\n",
       "      <th>State</th>\n",
       "      <th>College Count</th>\n",
       "    </tr>\n",
       "  </thead>\n",
       "  <tbody>\n",
       "    <tr>\n",
       "      <th>0</th>\n",
       "      <td>Andaman and Nicobar Islands</td>\n",
       "      <td>1</td>\n",
       "    </tr>\n",
       "    <tr>\n",
       "      <th>1</th>\n",
       "      <td>Andhra Pradesh</td>\n",
       "      <td>386</td>\n",
       "    </tr>\n",
       "    <tr>\n",
       "      <th>2</th>\n",
       "      <td>Arunachal Pradesh</td>\n",
       "      <td>6</td>\n",
       "    </tr>\n",
       "    <tr>\n",
       "      <th>3</th>\n",
       "      <td>Assam</td>\n",
       "      <td>35</td>\n",
       "    </tr>\n",
       "    <tr>\n",
       "      <th>4</th>\n",
       "      <td>Bihar</td>\n",
       "      <td>52</td>\n",
       "    </tr>\n",
       "    <tr>\n",
       "      <th>5</th>\n",
       "      <td>Chandigarh</td>\n",
       "      <td>8</td>\n",
       "    </tr>\n",
       "    <tr>\n",
       "      <th>6</th>\n",
       "      <td>Chhattisgarh</td>\n",
       "      <td>79</td>\n",
       "    </tr>\n",
       "    <tr>\n",
       "      <th>7</th>\n",
       "      <td>Dadra and Nagar Haveli</td>\n",
       "      <td>1</td>\n",
       "    </tr>\n",
       "    <tr>\n",
       "      <th>8</th>\n",
       "      <td>Delhi</td>\n",
       "      <td>39</td>\n",
       "    </tr>\n",
       "    <tr>\n",
       "      <th>9</th>\n",
       "      <td>Goa</td>\n",
       "      <td>13</td>\n",
       "    </tr>\n",
       "    <tr>\n",
       "      <th>10</th>\n",
       "      <td>Gujarat</td>\n",
       "      <td>241</td>\n",
       "    </tr>\n",
       "    <tr>\n",
       "      <th>11</th>\n",
       "      <td>Haryana</td>\n",
       "      <td>262</td>\n",
       "    </tr>\n",
       "    <tr>\n",
       "      <th>12</th>\n",
       "      <td>Himachal Pradesh</td>\n",
       "      <td>65</td>\n",
       "    </tr>\n",
       "    <tr>\n",
       "      <th>13</th>\n",
       "      <td>Jammu and Kashmir</td>\n",
       "      <td>21</td>\n",
       "    </tr>\n",
       "    <tr>\n",
       "      <th>14</th>\n",
       "      <td>Jharkhand</td>\n",
       "      <td>47</td>\n",
       "    </tr>\n",
       "    <tr>\n",
       "      <th>15</th>\n",
       "      <td>Karnataka</td>\n",
       "      <td>339</td>\n",
       "    </tr>\n",
       "    <tr>\n",
       "      <th>16</th>\n",
       "      <td>Kerala</td>\n",
       "      <td>233</td>\n",
       "    </tr>\n",
       "    <tr>\n",
       "      <th>17</th>\n",
       "      <td>Madhya Pradesh</td>\n",
       "      <td>261</td>\n",
       "    </tr>\n",
       "    <tr>\n",
       "      <th>18</th>\n",
       "      <td>Maharashtra</td>\n",
       "      <td>712</td>\n",
       "    </tr>\n",
       "    <tr>\n",
       "      <th>19</th>\n",
       "      <td>Manipur</td>\n",
       "      <td>8</td>\n",
       "    </tr>\n",
       "    <tr>\n",
       "      <th>20</th>\n",
       "      <td>Meghalaya</td>\n",
       "      <td>8</td>\n",
       "    </tr>\n",
       "    <tr>\n",
       "      <th>21</th>\n",
       "      <td>Mizoram</td>\n",
       "      <td>5</td>\n",
       "    </tr>\n",
       "    <tr>\n",
       "      <th>22</th>\n",
       "      <td>Nagaland</td>\n",
       "      <td>5</td>\n",
       "    </tr>\n",
       "    <tr>\n",
       "      <th>23</th>\n",
       "      <td>Odisha</td>\n",
       "      <td>190</td>\n",
       "    </tr>\n",
       "    <tr>\n",
       "      <th>24</th>\n",
       "      <td>Puducherry</td>\n",
       "      <td>24</td>\n",
       "    </tr>\n",
       "    <tr>\n",
       "      <th>25</th>\n",
       "      <td>Punjab</td>\n",
       "      <td>227</td>\n",
       "    </tr>\n",
       "    <tr>\n",
       "      <th>26</th>\n",
       "      <td>Rajasthan</td>\n",
       "      <td>239</td>\n",
       "    </tr>\n",
       "    <tr>\n",
       "      <th>27</th>\n",
       "      <td>Sikkim</td>\n",
       "      <td>4</td>\n",
       "    </tr>\n",
       "    <tr>\n",
       "      <th>28</th>\n",
       "      <td>State</td>\n",
       "      <td>6</td>\n",
       "    </tr>\n",
       "    <tr>\n",
       "      <th>29</th>\n",
       "      <td>Tamil Nadu</td>\n",
       "      <td>834</td>\n",
       "    </tr>\n",
       "    <tr>\n",
       "      <th>30</th>\n",
       "      <td>Telangana</td>\n",
       "      <td>312</td>\n",
       "    </tr>\n",
       "    <tr>\n",
       "      <th>31</th>\n",
       "      <td>Tripura</td>\n",
       "      <td>9</td>\n",
       "    </tr>\n",
       "    <tr>\n",
       "      <th>32</th>\n",
       "      <td>Uttar Pradesh</td>\n",
       "      <td>502</td>\n",
       "    </tr>\n",
       "    <tr>\n",
       "      <th>33</th>\n",
       "      <td>Uttarakhand</td>\n",
       "      <td>98</td>\n",
       "    </tr>\n",
       "    <tr>\n",
       "      <th>34</th>\n",
       "      <td>West Bengal</td>\n",
       "      <td>173</td>\n",
       "    </tr>\n",
       "  </tbody>\n",
       "</table>\n",
       "</div>"
      ],
      "text/plain": [
       "                          State  College Count\n",
       "0   Andaman and Nicobar Islands              1\n",
       "1                Andhra Pradesh            386\n",
       "2             Arunachal Pradesh              6\n",
       "3                         Assam             35\n",
       "4                         Bihar             52\n",
       "5                    Chandigarh              8\n",
       "6                  Chhattisgarh             79\n",
       "7        Dadra and Nagar Haveli              1\n",
       "8                         Delhi             39\n",
       "9                           Goa             13\n",
       "10                      Gujarat            241\n",
       "11                      Haryana            262\n",
       "12             Himachal Pradesh             65\n",
       "13            Jammu and Kashmir             21\n",
       "14                    Jharkhand             47\n",
       "15                    Karnataka            339\n",
       "16                       Kerala            233\n",
       "17               Madhya Pradesh            261\n",
       "18                  Maharashtra            712\n",
       "19                      Manipur              8\n",
       "20                    Meghalaya              8\n",
       "21                      Mizoram              5\n",
       "22                     Nagaland              5\n",
       "23                       Odisha            190\n",
       "24                   Puducherry             24\n",
       "25                       Punjab            227\n",
       "26                    Rajasthan            239\n",
       "27                       Sikkim              4\n",
       "28                        State              6\n",
       "29                   Tamil Nadu            834\n",
       "30                    Telangana            312\n",
       "31                      Tripura              9\n",
       "32                Uttar Pradesh            502\n",
       "33                  Uttarakhand             98\n",
       "34                  West Bengal            173"
      ]
     },
     "execution_count": 36,
     "metadata": {},
     "output_type": "execute_result"
    }
   ],
   "source": [
    "no_of_colleges"
   ]
  },
  {
   "cell_type": "code",
   "execution_count": 37,
   "metadata": {},
   "outputs": [],
   "source": [
    "x = no_of_colleges[no_of_colleges['College Count'] > 100]['College Count']\n",
    "labels = no_of_colleges[no_of_colleges['College Count'] > 100]['State']"
   ]
  },
  {
   "cell_type": "code",
   "execution_count": 38,
   "metadata": {},
   "outputs": [
    {
     "data": {
      "text/html": [
       "<div>\n",
       "<style scoped>\n",
       "    .dataframe tbody tr th:only-of-type {\n",
       "        vertical-align: middle;\n",
       "    }\n",
       "\n",
       "    .dataframe tbody tr th {\n",
       "        vertical-align: top;\n",
       "    }\n",
       "\n",
       "    .dataframe thead th {\n",
       "        text-align: right;\n",
       "    }\n",
       "</style>\n",
       "<table border=\"1\" class=\"dataframe\">\n",
       "  <thead>\n",
       "    <tr style=\"text-align: right;\">\n",
       "      <th></th>\n",
       "      <th>State</th>\n",
       "      <th>College Count</th>\n",
       "    </tr>\n",
       "  </thead>\n",
       "  <tbody>\n",
       "    <tr>\n",
       "      <th>1</th>\n",
       "      <td>Andhra Pradesh</td>\n",
       "      <td>386</td>\n",
       "    </tr>\n",
       "    <tr>\n",
       "      <th>10</th>\n",
       "      <td>Gujarat</td>\n",
       "      <td>241</td>\n",
       "    </tr>\n",
       "    <tr>\n",
       "      <th>11</th>\n",
       "      <td>Haryana</td>\n",
       "      <td>262</td>\n",
       "    </tr>\n",
       "    <tr>\n",
       "      <th>15</th>\n",
       "      <td>Karnataka</td>\n",
       "      <td>339</td>\n",
       "    </tr>\n",
       "    <tr>\n",
       "      <th>16</th>\n",
       "      <td>Kerala</td>\n",
       "      <td>233</td>\n",
       "    </tr>\n",
       "    <tr>\n",
       "      <th>17</th>\n",
       "      <td>Madhya Pradesh</td>\n",
       "      <td>261</td>\n",
       "    </tr>\n",
       "    <tr>\n",
       "      <th>18</th>\n",
       "      <td>Maharashtra</td>\n",
       "      <td>712</td>\n",
       "    </tr>\n",
       "    <tr>\n",
       "      <th>23</th>\n",
       "      <td>Odisha</td>\n",
       "      <td>190</td>\n",
       "    </tr>\n",
       "    <tr>\n",
       "      <th>25</th>\n",
       "      <td>Punjab</td>\n",
       "      <td>227</td>\n",
       "    </tr>\n",
       "    <tr>\n",
       "      <th>26</th>\n",
       "      <td>Rajasthan</td>\n",
       "      <td>239</td>\n",
       "    </tr>\n",
       "    <tr>\n",
       "      <th>29</th>\n",
       "      <td>Tamil Nadu</td>\n",
       "      <td>834</td>\n",
       "    </tr>\n",
       "    <tr>\n",
       "      <th>30</th>\n",
       "      <td>Telangana</td>\n",
       "      <td>312</td>\n",
       "    </tr>\n",
       "    <tr>\n",
       "      <th>32</th>\n",
       "      <td>Uttar Pradesh</td>\n",
       "      <td>502</td>\n",
       "    </tr>\n",
       "    <tr>\n",
       "      <th>34</th>\n",
       "      <td>West Bengal</td>\n",
       "      <td>173</td>\n",
       "    </tr>\n",
       "  </tbody>\n",
       "</table>\n",
       "</div>"
      ],
      "text/plain": [
       "             State  College Count\n",
       "1   Andhra Pradesh            386\n",
       "10         Gujarat            241\n",
       "11         Haryana            262\n",
       "15       Karnataka            339\n",
       "16          Kerala            233\n",
       "17  Madhya Pradesh            261\n",
       "18     Maharashtra            712\n",
       "23          Odisha            190\n",
       "25          Punjab            227\n",
       "26       Rajasthan            239\n",
       "29      Tamil Nadu            834\n",
       "30       Telangana            312\n",
       "32   Uttar Pradesh            502\n",
       "34     West Bengal            173"
      ]
     },
     "execution_count": 38,
     "metadata": {},
     "output_type": "execute_result"
    }
   ],
   "source": [
    "temp = no_of_colleges[no_of_colleges['College Count']>100]\n",
    "temp"
   ]
  },
  {
   "cell_type": "code",
   "execution_count": 39,
   "metadata": {},
   "outputs": [],
   "source": [
    "max_bool_series = temp['College Count'] == temp['College Count'].max()\n",
    "max_bool_list = list(max_bool_series)\n",
    "max_int_list = [float(i*0.3) if i == True else float(i) for i in max_bool_list]"
   ]
  },
  {
   "cell_type": "code",
   "execution_count": 40,
   "metadata": {},
   "outputs": [
    {
     "data": {
      "image/png": "[encoded data removed]",
      "text/plain": [
       "<Figure size 800x600 with 1 Axes>"
      ]
     },
     "metadata": {},
     "output_type": "display_data"
    }
   ],
   "source": [
    "plt.figure(figsize=(8,6))\n",
    "plt.pie(x,labels=labels,rotatelabels = True,autopct=\"%0.1f%%\",explode=max_int_list)\n",
    "plt.show()"
   ]
  },
  {
   "cell_type": "code",
   "execution_count": null,
   "metadata": {},
   "outputs": [],
   "source": []
  }
 ],
 "metadata": {
  "kernelspec": {
   "display_name": "Python 3",
   "language": "python",
   "name": "python3"
  },
  "language_info": {
   "codemirror_mode": {
    "name": "ipython",
    "version": 3
   },
   "file_extension": ".py",
   "mimetype": "text/x-python",
   "name": "python",
   "nbconvert_exporter": "python",
   "pygments_lexer": "ipython3",
   "version": "3.13.1"
  }
 },
 "nbformat": 4,
 "nbformat_minor": 2
}
