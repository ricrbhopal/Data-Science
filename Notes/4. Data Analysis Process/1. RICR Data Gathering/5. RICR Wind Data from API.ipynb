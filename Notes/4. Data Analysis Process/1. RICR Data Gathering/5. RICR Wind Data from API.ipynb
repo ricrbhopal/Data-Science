{
 "cells": [
  {
   "cell_type": "code",
   "execution_count": 1,
   "metadata": {},
   "outputs": [],
   "source": [
    "import requests"
   ]
  },
  {
   "cell_type": "code",
   "execution_count": null,
   "metadata": {},
   "outputs": [
    {
     "name": "stdout",
     "output_type": "stream",
     "text": [
      "<Response [200]>\n"
     ]
    }
   ],
   "source": [
    "response = requests.get(\"https://developer.nrel.gov/api/wind-toolkit/v2/wind/india-wind-download.json?api_key=Enter_your_key&wkt=POINT(75.36621%2024.726874)&attributes=pressure_40m%2Ctemperature_100m%2Ctemperature_120m%2Ctemperature_40m%2Ctemperature_80m%2Cwinddirection_100m%2Cwinddirection_120m%2Cwinddirection_40m%2Cwinddirection_80m%2Cwindspeed_100m%2Cwindspeed_120m%2Cwindspeed_40m%2Cwindspeed_80m%2Cpressure_100m&names=2014&email=Enter_your_email\")\n",
    "print(response)"
   ]
  },
  {
   "cell_type": "code",
   "execution_count": 11,
   "metadata": {},
   "outputs": [],
   "source": [
    "data = response.json()"
   ]
  },
  {
   "cell_type": "code",
   "execution_count": 13,
   "metadata": {},
   "outputs": [
    {
     "data": {
      "text/plain": [
       "{'inputs': {'body': {},\n",
       "  'params': {},\n",
       "  'query': {'wkt': 'POINT(75.36621 24.726874)',\n",
       "   'attributes': 'pressure_40m,temperature_100m,temperature_120m,temperature_40m,temperature_80m,winddirection_100m,winddirection_120m,winddirection_40m,winddirection_80m,windspeed_100m,windspeed_120m,windspeed_40m,windspeed_80m,pressure_100m',\n",
       "   'names': '2014',\n",
       "   'email': 'aniket22mishra2004@gmail.com'}},\n",
       " 'metadata': {'version': '2.0.0', 'resultset': {'count': 1}},\n",
       " 'status': 200,\n",
       " 'outputs': {'message': 'File generation in progress. An email will be sent to aniket22mishra2004@gmail.com when the download is ready.',\n",
       "  'downloadUrl': 'https://mapfiles.nrel.gov/data/wind/5829eabb729ce37b32a25e9c2b6a6f16.zip'},\n",
       " 'errors': []}"
      ]
     },
     "execution_count": 13,
     "metadata": {},
     "output_type": "execute_result"
    }
   ],
   "source": [
    "data"
   ]
  }
 ],
 "metadata": {
  "kernelspec": {
   "display_name": "Python 3",
   "language": "python",
   "name": "python3"
  },
  "language_info": {
   "codemirror_mode": {
    "name": "ipython",
    "version": 3
   },
   "file_extension": ".py",
   "mimetype": "text/x-python",
   "name": "python",
   "nbconvert_exporter": "python",
   "pygments_lexer": "ipython3",
   "version": "3.13.1"
  }
 },
 "nbformat": 4,
 "nbformat_minor": 2
}
