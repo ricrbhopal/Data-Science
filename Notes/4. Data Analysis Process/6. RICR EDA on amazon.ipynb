{
 "cells": [
  {
   "cell_type": "code",
   "execution_count": 1,
   "metadata": {},
   "outputs": [],
   "source": [
    "import numpy as np\n",
    "import pandas as pd\n",
    "import matplotlib.pyplot as plt\n",
    "import seaborn as sns"
   ]
  },
  {
   "cell_type": "code",
   "execution_count": 2,
   "metadata": {},
   "outputs": [],
   "source": [
    "df = pd.read_csv(\"Datasets/amazon.csv\")"
   ]
  },
  {
   "cell_type": "code",
   "execution_count": 3,
   "metadata": {},
   "outputs": [
    {
     "data": {
      "text/html": [
       "<div>\n",
       "<style scoped>\n",
       "    .dataframe tbody tr th:only-of-type {\n",
       "        vertical-align: middle;\n",
       "    }\n",
       "\n",
       "    .dataframe tbody tr th {\n",
       "        vertical-align: top;\n",
       "    }\n",
       "\n",
       "    .dataframe thead th {\n",
       "        text-align: right;\n",
       "    }\n",
       "</style>\n",
       "<table border=\"1\" class=\"dataframe\">\n",
       "  <thead>\n",
       "    <tr style=\"text-align: right;\">\n",
       "      <th></th>\n",
       "      <th>product_id</th>\n",
       "      <th>product_name</th>\n",
       "      <th>category</th>\n",
       "      <th>discounted_price</th>\n",
       "      <th>actual_price</th>\n",
       "      <th>discount_percentage</th>\n",
       "      <th>rating</th>\n",
       "      <th>rating_count</th>\n",
       "      <th>about_product</th>\n",
       "      <th>user_id</th>\n",
       "      <th>user_name</th>\n",
       "      <th>review_id</th>\n",
       "      <th>review_title</th>\n",
       "      <th>review_content</th>\n",
       "      <th>img_link</th>\n",
       "      <th>product_link</th>\n",
       "    </tr>\n",
       "  </thead>\n",
       "  <tbody>\n",
       "    <tr>\n",
       "      <th>907</th>\n",
       "      <td>B09BVCVTBC</td>\n",
       "      <td>Redragon K617 Fizz 60% Wired RGB Gaming Keyboa...</td>\n",
       "      <td>Computers&amp;Accessories|Accessories&amp;Peripherals|...</td>\n",
       "      <td>₹2,649</td>\n",
       "      <td>₹3,499</td>\n",
       "      <td>24%</td>\n",
       "      <td>4.5</td>\n",
       "      <td>1,271</td>\n",
       "      <td>Slim Fresh K617: Redragon's new 60% layout wir...</td>\n",
       "      <td>AEAHQT2GADXG7O5HE362SSWYG5TQ,AFXIZPXW2Y4UA5NWS...</td>\n",
       "      <td>Bazil,Shoaib,Devis,PK,Unboxing video by Abanan...</td>\n",
       "      <td>R2FMPKQXCZIRV1,R3B9RMX16ONMZ,R97EXY4ON0ZL7,R1K...</td>\n",
       "      <td>Best Budget Mechanical Gaming Keyboard Period!...</td>\n",
       "      <td>Get it! Get it! Get it!It is my second time ge...</td>\n",
       "      <td>https://m.media-amazon.com/images/I/41nRBNNDnN...</td>\n",
       "      <td>https://www.amazon.in/Redragon-K617-Keyboard-M...</td>\n",
       "    </tr>\n",
       "    <tr>\n",
       "      <th>840</th>\n",
       "      <td>B09RZS1NQT</td>\n",
       "      <td>Sounce 65W OnePlus Dash Warp Charge Cable, 6.5...</td>\n",
       "      <td>Computers&amp;Accessories|Accessories&amp;Peripherals|...</td>\n",
       "      <td>₹199</td>\n",
       "      <td>₹999</td>\n",
       "      <td>80%</td>\n",
       "      <td>4.0</td>\n",
       "      <td>575</td>\n",
       "      <td>[USB C To USB C Cord 1M] With This 1 Meter USB...</td>\n",
       "      <td>AHUH7OYN3LAUATF5EGA575WCDI6A,AFQRX6TAM6CHKARXI...</td>\n",
       "      <td>Anmol,Vani,Tejas Jha,Rishabh Gupta,Nik,Harsha,...</td>\n",
       "      <td>RW294SCHB5QTK,R24AGC1O5RVWYI,R3NT7AA2V3I2FB,R2...</td>\n",
       "      <td>Worth it!,Good one,Robust and effective.,Good,...</td>\n",
       "      <td>It does the job really well. No complaints reg...</td>\n",
       "      <td>https://m.media-amazon.com/images/I/41P2EdQI1Z...</td>\n",
       "      <td>https://www.amazon.in/Sounce-Type-C-Compatible...</td>\n",
       "    </tr>\n",
       "    <tr>\n",
       "      <th>1037</th>\n",
       "      <td>B01C8P29N0</td>\n",
       "      <td>Bajaj DX-6 1000W Dry Iron with Advance Solepla...</td>\n",
       "      <td>Home&amp;Kitchen|Kitchen&amp;HomeAppliances|Vacuum,Cle...</td>\n",
       "      <td>₹625</td>\n",
       "      <td>₹1,400</td>\n",
       "      <td>55%</td>\n",
       "      <td>4.2</td>\n",
       "      <td>23,316</td>\n",
       "      <td>R.D. &amp; COMPANY Majesty DX 6 1000-Watt Dry Iron...</td>\n",
       "      <td>AEWW4RY2BE6FRKM6CVAJ2Z4ZTR7Q,AHJRPRAXBOIRLYMCR...</td>\n",
       "      <td>Chittibabu M,Sagarjit,Samiran Mondal,ᴀᴅᴡᴀɪᴛʜ,R...</td>\n",
       "      <td>RN09522VLQZIP,RCXEZXWETXG3,R3NJ39MOXXHP2D,R350...</td>\n",
       "      <td>Worth the money..,Good product,This is Good,Su...</td>\n",
       "      <td>Light weight. Easy to use. But the Packaging i...</td>\n",
       "      <td>https://m.media-amazon.com/images/W/WEBP_40237...</td>\n",
       "      <td>https://www.amazon.in/Bajaj-Majesty-1000-Watt-...</td>\n",
       "    </tr>\n",
       "  </tbody>\n",
       "</table>\n",
       "</div>"
      ],
      "text/plain": [
       "      product_id                                       product_name  \\\n",
       "907   B09BVCVTBC  Redragon K617 Fizz 60% Wired RGB Gaming Keyboa...   \n",
       "840   B09RZS1NQT  Sounce 65W OnePlus Dash Warp Charge Cable, 6.5...   \n",
       "1037  B01C8P29N0  Bajaj DX-6 1000W Dry Iron with Advance Solepla...   \n",
       "\n",
       "                                               category discounted_price  \\\n",
       "907   Computers&Accessories|Accessories&Peripherals|...           ₹2,649   \n",
       "840   Computers&Accessories|Accessories&Peripherals|...             ₹199   \n",
       "1037  Home&Kitchen|Kitchen&HomeAppliances|Vacuum,Cle...             ₹625   \n",
       "\n",
       "     actual_price discount_percentage rating rating_count  \\\n",
       "907        ₹3,499                 24%    4.5        1,271   \n",
       "840          ₹999                 80%    4.0          575   \n",
       "1037       ₹1,400                 55%    4.2       23,316   \n",
       "\n",
       "                                          about_product  \\\n",
       "907   Slim Fresh K617: Redragon's new 60% layout wir...   \n",
       "840   [USB C To USB C Cord 1M] With This 1 Meter USB...   \n",
       "1037  R.D. & COMPANY Majesty DX 6 1000-Watt Dry Iron...   \n",
       "\n",
       "                                                user_id  \\\n",
       "907   AEAHQT2GADXG7O5HE362SSWYG5TQ,AFXIZPXW2Y4UA5NWS...   \n",
       "840   AHUH7OYN3LAUATF5EGA575WCDI6A,AFQRX6TAM6CHKARXI...   \n",
       "1037  AEWW4RY2BE6FRKM6CVAJ2Z4ZTR7Q,AHJRPRAXBOIRLYMCR...   \n",
       "\n",
       "                                              user_name  \\\n",
       "907   Bazil,Shoaib,Devis,PK,Unboxing video by Abanan...   \n",
       "840   Anmol,Vani,Tejas Jha,Rishabh Gupta,Nik,Harsha,...   \n",
       "1037  Chittibabu M,Sagarjit,Samiran Mondal,ᴀᴅᴡᴀɪᴛʜ,R...   \n",
       "\n",
       "                                              review_id  \\\n",
       "907   R2FMPKQXCZIRV1,R3B9RMX16ONMZ,R97EXY4ON0ZL7,R1K...   \n",
       "840   RW294SCHB5QTK,R24AGC1O5RVWYI,R3NT7AA2V3I2FB,R2...   \n",
       "1037  RN09522VLQZIP,RCXEZXWETXG3,R3NJ39MOXXHP2D,R350...   \n",
       "\n",
       "                                           review_title  \\\n",
       "907   Best Budget Mechanical Gaming Keyboard Period!...   \n",
       "840   Worth it!,Good one,Robust and effective.,Good,...   \n",
       "1037  Worth the money..,Good product,This is Good,Su...   \n",
       "\n",
       "                                         review_content  \\\n",
       "907   Get it! Get it! Get it!It is my second time ge...   \n",
       "840   It does the job really well. No complaints reg...   \n",
       "1037  Light weight. Easy to use. But the Packaging i...   \n",
       "\n",
       "                                               img_link  \\\n",
       "907   https://m.media-amazon.com/images/I/41nRBNNDnN...   \n",
       "840   https://m.media-amazon.com/images/I/41P2EdQI1Z...   \n",
       "1037  https://m.media-amazon.com/images/W/WEBP_40237...   \n",
       "\n",
       "                                           product_link  \n",
       "907   https://www.amazon.in/Redragon-K617-Keyboard-M...  \n",
       "840   https://www.amazon.in/Sounce-Type-C-Compatible...  \n",
       "1037  https://www.amazon.in/Bajaj-Majesty-1000-Watt-...  "
      ]
     },
     "execution_count": 3,
     "metadata": {},
     "output_type": "execute_result"
    }
   ],
   "source": [
    "df.sample(3)"
   ]
  },
  {
   "cell_type": "code",
   "execution_count": 4,
   "metadata": {},
   "outputs": [
    {
     "name": "stdout",
     "output_type": "stream",
     "text": [
      "<class 'pandas.core.frame.DataFrame'>\n",
      "RangeIndex: 1465 entries, 0 to 1464\n",
      "Data columns (total 16 columns):\n",
      " #   Column               Non-Null Count  Dtype \n",
      "---  ------               --------------  ----- \n",
      " 0   product_id           1465 non-null   object\n",
      " 1   product_name         1465 non-null   object\n",
      " 2   category             1465 non-null   object\n",
      " 3   discounted_price     1465 non-null   object\n",
      " 4   actual_price         1465 non-null   object\n",
      " 5   discount_percentage  1465 non-null   object\n",
      " 6   rating               1465 non-null   object\n",
      " 7   rating_count         1463 non-null   object\n",
      " 8   about_product        1465 non-null   object\n",
      " 9   user_id              1465 non-null   object\n",
      " 10  user_name            1465 non-null   object\n",
      " 11  review_id            1465 non-null   object\n",
      " 12  review_title         1465 non-null   object\n",
      " 13  review_content       1465 non-null   object\n",
      " 14  img_link             1465 non-null   object\n",
      " 15  product_link         1465 non-null   object\n",
      "dtypes: object(16)\n",
      "memory usage: 183.3+ KB\n"
     ]
    }
   ],
   "source": [
    "df.info()"
   ]
  },
  {
   "cell_type": "code",
   "execution_count": 19,
   "metadata": {},
   "outputs": [
    {
     "data": {
      "text/plain": [
       "product_id                                                    B07JW9H4J1\n",
       "product_name           Wayona Nylon Braided USB to Lightning Fast Cha...\n",
       "category               Computers&Accessories|Accessories&Peripherals|...\n",
       "discounted_price                                                    ₹399\n",
       "actual_price                                                      ₹1,099\n",
       "discount_percentage                                                  64%\n",
       "rating                                                               4.2\n",
       "rating_count                                                      24,269\n",
       "about_product          High Compatibility : Compatible With iPhone 12...\n",
       "user_id                AG3D6O4STAQKAY2UVGEUV46KN35Q,AHMY5CWJMMK5BJRBB...\n",
       "user_name              Manav,Adarsh gupta,Sundeep,S.Sayeed Ahmed,jasp...\n",
       "review_id              R3HXWT0LRP0NMF,R2AJM3LFTLZHFO,R6AQJGUP6P86,R1K...\n",
       "review_title           Satisfied,Charging is really fast,Value for mo...\n",
       "review_content         Looks durable Charging is fine tooNo complains...\n",
       "img_link               https://m.media-amazon.com/images/W/WEBP_40237...\n",
       "product_link           https://www.amazon.in/Wayona-Braided-WN3LG1-Sy...\n",
       "Name: 0, dtype: object"
      ]
     },
     "execution_count": 19,
     "metadata": {},
     "output_type": "execute_result"
    }
   ],
   "source": [
    "df.iloc[0]"
   ]
  },
  {
   "cell_type": "markdown",
   "metadata": {},
   "source": [
    "1. Correct type\n",
    "2. removing irrelevant information\n"
   ]
  },
  {
   "cell_type": "code",
   "execution_count": null,
   "metadata": {},
   "outputs": [],
   "source": []
  }
 ],
 "metadata": {
  "kernelspec": {
   "display_name": "Python 3",
   "language": "python",
   "name": "python3"
  },
  "language_info": {
   "codemirror_mode": {
    "name": "ipython",
    "version": 3
   },
   "file_extension": ".py",
   "mimetype": "text/x-python",
   "name": "python",
   "nbconvert_exporter": "python",
   "pygments_lexer": "ipython3",
   "version": "3.13.1"
  }
 },
 "nbformat": 4,
 "nbformat_minor": 2
}
