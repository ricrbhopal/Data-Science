{
 "cells": [
  {
   "cell_type": "markdown",
   "metadata": {},
   "source": [
    "## Outliers Notes"
   ]
  },
  {
   "cell_type": "markdown",
   "metadata": {},
   "source": [
    "### What is Outliers:\n",
    "\n",
    "<img src='images/outlier.png' width=500>\n",
    "\n",
    "- An outlier is a data point that significantly differs from the rest of the dataset.\n",
    "- It can be much higher or lower than the expected range.\n",
    "- Outliers can occur due to measurement errors, variability in data, or anomalies."
   ]
  },
  {
   "cell_type": "markdown",
   "metadata": {},
   "source": [
    "### Effect of Outliers on ML Algorithms\n",
    "\n",
    "<img src='images/outlier algo.png' width=800>"
   ]
  },
  {
   "cell_type": "markdown",
   "metadata": {},
   "source": [
    "## Treating Outliers:"
   ]
  },
  {
   "cell_type": "markdown",
   "metadata": {},
   "source": [
    "<img src='images/t1.png' width=900>"
   ]
  },
  {
   "cell_type": "markdown",
   "metadata": {},
   "source": [
    "## Techniques to detect outliers and remove them:\n",
    "\n",
    "<img src='images/t2.png' width=700>"
   ]
  }
 ],
 "metadata": {
  "kernelspec": {
   "display_name": "Python 3",
   "language": "python",
   "name": "python3"
  },
  "language_info": {
   "name": "python",
   "version": "3.13.1"
  }
 },
 "nbformat": 4,
 "nbformat_minor": 2
}
