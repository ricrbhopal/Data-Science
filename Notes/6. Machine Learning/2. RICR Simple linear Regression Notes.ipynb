{
 "cells": [
  {
   "cell_type": "markdown",
   "metadata": {
    "id": "SeXvLc-1BW5y",
    "papermill": {
     "duration": 0.030052,
     "end_time": "2020-11-23T18:37:01.833808",
     "exception": false,
     "start_time": "2020-11-23T18:37:01.803756",
     "status": "completed"
    },
    "tags": []
   },
   "source": [
    "# Simple Linear Regression "
   ]
  },
  {
   "cell_type": "markdown",
   "metadata": {
    "id": "JUPGS__xBW5y",
    "papermill": {
     "duration": 0.029979,
     "end_time": "2020-11-23T18:37:01.894239",
     "exception": false,
     "start_time": "2020-11-23T18:37:01.864260",
     "status": "completed"
    },
    "tags": []
   },
   "source": [
    "`Simple Linear Regression` is a statistical method used to model the relationship between a dependent variable (Y) and a single independent variable (X).      \n",
    "It assumes that the relationship between the two variables is linear, meaning that changes in the independent variable lead to proportional changes in the dependent variable.\n",
    "\n",
    "### Assumptions of Linear Regression\n",
    "- Linearity – The relationship between X and Y is linear.\n",
    "- Independence – The observations are independent of each other.\n",
    "- Homoscedasticity – The variance of residuals (errors) is constant across all values of X.\n",
    "- Normality – The residuals follow a normal distribution."
   ]
  },
  {
   "cell_type": "markdown",
   "metadata": {
    "id": "5Hxz_OnuBW5y",
    "papermill": {
     "duration": 0.030799,
     "end_time": "2020-11-23T18:37:02.022244",
     "exception": false,
     "start_time": "2020-11-23T18:37:01.991445",
     "status": "completed"
    },
    "tags": []
   },
   "source": [
    "Step by Step:\n",
    "\n",
    "1. Importing neccesary libraries."
   ]
  },
  {
   "cell_type": "code",
   "execution_count": 1,
   "metadata": {
    "execution": {
     "iopub.execute_input": "2020-11-23T18:37:02.089354Z",
     "iopub.status.busy": "2020-11-23T18:37:02.088248Z",
     "iopub.status.idle": "2020-11-23T18:37:02.091721Z",
     "shell.execute_reply": "2020-11-23T18:37:02.091060Z"
    },
    "id": "4YmE8-RiBW5y",
    "papermill": {
     "duration": 0.038672,
     "end_time": "2020-11-23T18:37:02.091841",
     "exception": false,
     "start_time": "2020-11-23T18:37:02.053169",
     "status": "completed"
    },
    "tags": []
   },
   "outputs": [],
   "source": [
    "import pandas as pd\n",
    "import matplotlib.pyplot as plt\n",
    "import seaborn as sns"
   ]
  },
  {
   "cell_type": "markdown",
   "metadata": {},
   "source": [
    "2. Loading the dataset"
   ]
  },
  {
   "cell_type": "code",
   "execution_count": 2,
   "metadata": {},
   "outputs": [],
   "source": [
    "df = pd.read_csv(\"Datasets/student-performance.csv\")"
   ]
  },
  {
   "cell_type": "code",
   "execution_count": 3,
   "metadata": {},
   "outputs": [
    {
     "data": {
      "text/html": [
       "<div>\n",
       "<style scoped>\n",
       "    .dataframe tbody tr th:only-of-type {\n",
       "        vertical-align: middle;\n",
       "    }\n",
       "\n",
       "    .dataframe tbody tr th {\n",
       "        vertical-align: top;\n",
       "    }\n",
       "\n",
       "    .dataframe thead th {\n",
       "        text-align: right;\n",
       "    }\n",
       "</style>\n",
       "<table border=\"1\" class=\"dataframe\">\n",
       "  <thead>\n",
       "    <tr style=\"text-align: right;\">\n",
       "      <th></th>\n",
       "      <th>gender</th>\n",
       "      <th>race/ethnicity</th>\n",
       "      <th>parental level of education</th>\n",
       "      <th>lunch</th>\n",
       "      <th>test preparation course</th>\n",
       "      <th>math score</th>\n",
       "      <th>reading score</th>\n",
       "      <th>writing score</th>\n",
       "    </tr>\n",
       "  </thead>\n",
       "  <tbody>\n",
       "    <tr>\n",
       "      <th>0</th>\n",
       "      <td>female</td>\n",
       "      <td>group B</td>\n",
       "      <td>bachelor's degree</td>\n",
       "      <td>standard</td>\n",
       "      <td>none</td>\n",
       "      <td>72.518868</td>\n",
       "      <td>72.341163</td>\n",
       "      <td>74.604843</td>\n",
       "    </tr>\n",
       "    <tr>\n",
       "      <th>1</th>\n",
       "      <td>female</td>\n",
       "      <td>group C</td>\n",
       "      <td>some college</td>\n",
       "      <td>standard</td>\n",
       "      <td>completed</td>\n",
       "      <td>69.372786</td>\n",
       "      <td>90.693512</td>\n",
       "      <td>88.434536</td>\n",
       "    </tr>\n",
       "    <tr>\n",
       "      <th>2</th>\n",
       "      <td>female</td>\n",
       "      <td>group B</td>\n",
       "      <td>master's degree</td>\n",
       "      <td>standard</td>\n",
       "      <td>none</td>\n",
       "      <td>90.747297</td>\n",
       "      <td>95.972689</td>\n",
       "      <td>93.364383</td>\n",
       "    </tr>\n",
       "  </tbody>\n",
       "</table>\n",
       "</div>"
      ],
      "text/plain": [
       "   gender race/ethnicity parental level of education     lunch  \\\n",
       "0  female        group B           bachelor's degree  standard   \n",
       "1  female        group C                some college  standard   \n",
       "2  female        group B             master's degree  standard   \n",
       "\n",
       "  test preparation course  math score  reading score  writing score  \n",
       "0                    none   72.518868      72.341163      74.604843  \n",
       "1               completed   69.372786      90.693512      88.434536  \n",
       "2                    none   90.747297      95.972689      93.364383  "
      ]
     },
     "execution_count": 3,
     "metadata": {},
     "output_type": "execute_result"
    }
   ],
   "source": [
    "df.head(3)"
   ]
  },
  {
   "cell_type": "markdown",
   "metadata": {},
   "source": [
    "### For Simple Linear Regression:\n",
    "\n",
    "- Let's take reading score as independent variable (X) and writing score as dependent variable (Y)."
   ]
  },
  {
   "cell_type": "code",
   "execution_count": 4,
   "metadata": {},
   "outputs": [],
   "source": [
    "new_df = df.drop(columns=['gender','race/ethnicity','parental level of education','lunch','test preparation course','math score'])"
   ]
  },
  {
   "cell_type": "markdown",
   "metadata": {},
   "source": [
    "New DataFrame which contains reading score and writing score of students."
   ]
  },
  {
   "cell_type": "code",
   "execution_count": 5,
   "metadata": {},
   "outputs": [
    {
     "data": {
      "text/html": [
       "<div>\n",
       "<style scoped>\n",
       "    .dataframe tbody tr th:only-of-type {\n",
       "        vertical-align: middle;\n",
       "    }\n",
       "\n",
       "    .dataframe tbody tr th {\n",
       "        vertical-align: top;\n",
       "    }\n",
       "\n",
       "    .dataframe thead th {\n",
       "        text-align: right;\n",
       "    }\n",
       "</style>\n",
       "<table border=\"1\" class=\"dataframe\">\n",
       "  <thead>\n",
       "    <tr style=\"text-align: right;\">\n",
       "      <th></th>\n",
       "      <th>reading score</th>\n",
       "      <th>writing score</th>\n",
       "    </tr>\n",
       "  </thead>\n",
       "  <tbody>\n",
       "    <tr>\n",
       "      <th>0</th>\n",
       "      <td>72.341163</td>\n",
       "      <td>74.604843</td>\n",
       "    </tr>\n",
       "    <tr>\n",
       "      <th>1</th>\n",
       "      <td>90.693512</td>\n",
       "      <td>88.434536</td>\n",
       "    </tr>\n",
       "    <tr>\n",
       "      <th>2</th>\n",
       "      <td>95.972689</td>\n",
       "      <td>93.364383</td>\n",
       "    </tr>\n",
       "    <tr>\n",
       "      <th>3</th>\n",
       "      <td>57.336038</td>\n",
       "      <td>44.197319</td>\n",
       "    </tr>\n",
       "    <tr>\n",
       "      <th>4</th>\n",
       "      <td>78.920104</td>\n",
       "      <td>75.317157</td>\n",
       "    </tr>\n",
       "    <tr>\n",
       "      <th>...</th>\n",
       "      <td>...</td>\n",
       "      <td>...</td>\n",
       "    </tr>\n",
       "    <tr>\n",
       "      <th>995</th>\n",
       "      <td>99.461313</td>\n",
       "      <td>95.695893</td>\n",
       "    </tr>\n",
       "    <tr>\n",
       "      <th>996</th>\n",
       "      <td>55.106847</td>\n",
       "      <td>55.988351</td>\n",
       "    </tr>\n",
       "    <tr>\n",
       "      <th>997</th>\n",
       "      <td>71.709248</td>\n",
       "      <td>65.408511</td>\n",
       "    </tr>\n",
       "    <tr>\n",
       "      <th>998</th>\n",
       "      <td>78.607313</td>\n",
       "      <td>77.960825</td>\n",
       "    </tr>\n",
       "    <tr>\n",
       "      <th>999</th>\n",
       "      <td>86.914925</td>\n",
       "      <td>86.684998</td>\n",
       "    </tr>\n",
       "  </tbody>\n",
       "</table>\n",
       "<p>1000 rows × 2 columns</p>\n",
       "</div>"
      ],
      "text/plain": [
       "     reading score  writing score\n",
       "0        72.341163      74.604843\n",
       "1        90.693512      88.434536\n",
       "2        95.972689      93.364383\n",
       "3        57.336038      44.197319\n",
       "4        78.920104      75.317157\n",
       "..             ...            ...\n",
       "995      99.461313      95.695893\n",
       "996      55.106847      55.988351\n",
       "997      71.709248      65.408511\n",
       "998      78.607313      77.960825\n",
       "999      86.914925      86.684998\n",
       "\n",
       "[1000 rows x 2 columns]"
      ]
     },
     "execution_count": 5,
     "metadata": {},
     "output_type": "execute_result"
    }
   ],
   "source": [
    "new_df"
   ]
  },
  {
   "cell_type": "markdown",
   "metadata": {
    "id": "9ZFSxwHPBW5z",
    "papermill": {
     "duration": 0.030352,
     "end_time": "2020-11-23T18:37:02.227928",
     "exception": false,
     "start_time": "2020-11-23T18:37:02.197576",
     "status": "completed"
    },
    "tags": []
   },
   "source": [
    "Now, let's check the structure of the students dataset."
   ]
  },
  {
   "cell_type": "code",
   "execution_count": 6,
   "metadata": {
    "execution": {
     "iopub.execute_input": "2020-11-23T18:37:02.471046Z",
     "iopub.status.busy": "2020-11-23T18:37:02.470138Z",
     "iopub.status.idle": "2020-11-23T18:37:02.473682Z",
     "shell.execute_reply": "2020-11-23T18:37:02.474278Z"
    },
    "id": "HQDqzhdKBW51",
    "outputId": "1cb2a23e-8963-4629-b415-8fa68c5c383b",
    "papermill": {
     "duration": 0.049095,
     "end_time": "2020-11-23T18:37:02.474493",
     "exception": false,
     "start_time": "2020-11-23T18:37:02.425398",
     "status": "completed"
    },
    "tags": []
   },
   "outputs": [
    {
     "name": "stdout",
     "output_type": "stream",
     "text": [
      "<class 'pandas.core.frame.DataFrame'>\n",
      "RangeIndex: 1000 entries, 0 to 999\n",
      "Data columns (total 2 columns):\n",
      " #   Column         Non-Null Count  Dtype  \n",
      "---  ------         --------------  -----  \n",
      " 0   reading score  1000 non-null   float64\n",
      " 1   writing score  1000 non-null   float64\n",
      "dtypes: float64(2)\n",
      "memory usage: 15.8 KB\n"
     ]
    }
   ],
   "source": [
    "# Let's check the columns\n",
    "new_df.info()"
   ]
  },
  {
   "cell_type": "code",
   "execution_count": 7,
   "metadata": {
    "execution": {
     "iopub.execute_input": "2020-11-23T18:37:02.546376Z",
     "iopub.status.busy": "2020-11-23T18:37:02.545284Z",
     "iopub.status.idle": "2020-11-23T18:37:02.548798Z",
     "shell.execute_reply": "2020-11-23T18:37:02.549364Z"
    },
    "id": "1fOGVz61BW51",
    "outputId": "81567bb2-0c1b-480c-9a4c-9f1d70c012e0",
    "papermill": {
     "duration": 0.041629,
     "end_time": "2020-11-23T18:37:02.549519",
     "exception": false,
     "start_time": "2020-11-23T18:37:02.507890",
     "status": "completed"
    },
    "tags": []
   },
   "outputs": [
    {
     "data": {
      "text/plain": [
       "(1000, 2)"
      ]
     },
     "execution_count": 7,
     "metadata": {},
     "output_type": "execute_result"
    }
   ],
   "source": [
    "# Check the shape of the DataFrame (rows, columns)\n",
    "new_df.shape"
   ]
  },
  {
   "cell_type": "code",
   "execution_count": 8,
   "metadata": {
    "execution": {
     "iopub.execute_input": "2020-11-23T18:37:02.624145Z",
     "iopub.status.busy": "2020-11-23T18:37:02.623443Z",
     "iopub.status.idle": "2020-11-23T18:37:02.638999Z",
     "shell.execute_reply": "2020-11-23T18:37:02.638250Z"
    },
    "id": "VO4GoVyfBW51",
    "outputId": "29ea1da8-11c6-4cf1-9e1f-8cb9298afa92",
    "papermill": {
     "duration": 0.056228,
     "end_time": "2020-11-23T18:37:02.639121",
     "exception": false,
     "start_time": "2020-11-23T18:37:02.582893",
     "status": "completed"
    },
    "tags": []
   },
   "outputs": [
    {
     "data": {
      "text/html": [
       "<div>\n",
       "<style scoped>\n",
       "    .dataframe tbody tr th:only-of-type {\n",
       "        vertical-align: middle;\n",
       "    }\n",
       "\n",
       "    .dataframe tbody tr th {\n",
       "        vertical-align: top;\n",
       "    }\n",
       "\n",
       "    .dataframe thead th {\n",
       "        text-align: right;\n",
       "    }\n",
       "</style>\n",
       "<table border=\"1\" class=\"dataframe\">\n",
       "  <thead>\n",
       "    <tr style=\"text-align: right;\">\n",
       "      <th></th>\n",
       "      <th>reading score</th>\n",
       "      <th>writing score</th>\n",
       "    </tr>\n",
       "  </thead>\n",
       "  <tbody>\n",
       "    <tr>\n",
       "      <th>count</th>\n",
       "      <td>1000.000000</td>\n",
       "      <td>1000.000000</td>\n",
       "    </tr>\n",
       "    <tr>\n",
       "      <th>mean</th>\n",
       "      <td>69.673433</td>\n",
       "      <td>68.565749</td>\n",
       "    </tr>\n",
       "    <tr>\n",
       "      <th>std</th>\n",
       "      <td>14.623925</td>\n",
       "      <td>15.208336</td>\n",
       "    </tr>\n",
       "    <tr>\n",
       "      <th>min</th>\n",
       "      <td>17.047755</td>\n",
       "      <td>10.846358</td>\n",
       "    </tr>\n",
       "    <tr>\n",
       "      <th>25%</th>\n",
       "      <td>59.637510</td>\n",
       "      <td>58.089913</td>\n",
       "    </tr>\n",
       "    <tr>\n",
       "      <th>50%</th>\n",
       "      <td>70.476326</td>\n",
       "      <td>69.497129</td>\n",
       "    </tr>\n",
       "    <tr>\n",
       "      <th>75%</th>\n",
       "      <td>79.890498</td>\n",
       "      <td>79.423098</td>\n",
       "    </tr>\n",
       "    <tr>\n",
       "      <th>max</th>\n",
       "      <td>100.975359</td>\n",
       "      <td>100.729562</td>\n",
       "    </tr>\n",
       "  </tbody>\n",
       "</table>\n",
       "</div>"
      ],
      "text/plain": [
       "       reading score  writing score\n",
       "count    1000.000000    1000.000000\n",
       "mean       69.673433      68.565749\n",
       "std        14.623925      15.208336\n",
       "min        17.047755      10.846358\n",
       "25%        59.637510      58.089913\n",
       "50%        70.476326      69.497129\n",
       "75%        79.890498      79.423098\n",
       "max       100.975359     100.729562"
      ]
     },
     "execution_count": 8,
     "metadata": {},
     "output_type": "execute_result"
    }
   ],
   "source": [
    "# Look at some statistical information about the dataframe.\n",
    "new_df.describe()"
   ]
  },
  {
   "cell_type": "markdown",
   "metadata": {
    "id": "4tkuFialBW52",
    "papermill": {
     "duration": 0.034134,
     "end_time": "2020-11-23T18:37:02.708167",
     "exception": false,
     "start_time": "2020-11-23T18:37:02.674033",
     "status": "completed"
    },
    "tags": []
   },
   "source": [
    "## Visualising Data Using seaborn scatter plot."
   ]
  },
  {
   "cell_type": "code",
   "execution_count": 9,
   "metadata": {
    "execution": {
     "iopub.execute_input": "2020-11-23T18:37:02.782408Z",
     "iopub.status.busy": "2020-11-23T18:37:02.781684Z",
     "iopub.status.idle": "2020-11-23T18:37:03.071864Z",
     "shell.execute_reply": "2020-11-23T18:37:03.071234Z"
    },
    "id": "3mEiKmvYCk8S",
    "outputId": "0fd94a12-8a44-4c99-fe22-13b786d02b61",
    "papermill": {
     "duration": 0.329212,
     "end_time": "2020-11-23T18:37:03.071980",
     "exception": false,
     "start_time": "2020-11-23T18:37:02.742768",
     "status": "completed"
    },
    "tags": []
   },
   "outputs": [
    {
     "data": {
      "image/png": "[encoded data removed]",
      "text/plain": [
       "<Figure size 640x480 with 1 Axes>"
      ]
     },
     "metadata": {},
     "output_type": "display_data"
    }
   ],
   "source": [
    "# Visualise the relationship between the reading score and writing score using scatterplots\n",
    "\n",
    "sns.scatterplot(data=df,x='reading score',y='writing score')\n",
    "plt.show()"
   ]
  },
  {
   "cell_type": "markdown",
   "metadata": {
    "id": "54eMqRWoBW52",
    "papermill": {
     "duration": 0.035616,
     "end_time": "2020-11-23T18:37:03.143525",
     "exception": false,
     "start_time": "2020-11-23T18:37:03.107909",
     "status": "completed"
    },
    "tags": []
   },
   "source": [
    "# Perfroming Simple Linear Regression"
   ]
  },
  {
   "cell_type": "markdown",
   "metadata": {
    "id": "R8O25fC6BW52",
    "papermill": {
     "duration": 0.035901,
     "end_time": "2020-11-23T18:37:03.215830",
     "exception": false,
     "start_time": "2020-11-23T18:37:03.179929",
     "status": "completed"
    },
    "tags": []
   },
   "source": [
    "<img src=\"images/linear.png\" width='650px'>"
   ]
  },
  {
   "cell_type": "markdown",
   "metadata": {},
   "source": [
    "# To Calculate slope and intercept:\n",
    "\n",
    "<img src=\"images/ols.png\" width='700px'>"
   ]
  },
  {
   "cell_type": "markdown",
   "metadata": {
    "id": "GaxpcxRABW52",
    "papermill": {
     "duration": 0.035611,
     "end_time": "2020-11-23T18:37:03.358264",
     "exception": false,
     "start_time": "2020-11-23T18:37:03.322653",
     "status": "completed"
    },
    "tags": []
   },
   "source": [
    "## Dividing independent and dependent variable:\n",
    "\n",
    "-  The scikit-learn library expects X (feature variable) and y (response variable) to be NumPy arrays.\n",
    "-  However, X can be a dataframe as Pandas is built over NumPy."
   ]
  },
  {
   "cell_type": "code",
   "execution_count": 10,
   "metadata": {},
   "outputs": [],
   "source": [
    "X = new_df.iloc[:,0]\n",
    "y = new_df.iloc[:,-1]"
   ]
  },
  {
   "cell_type": "markdown",
   "metadata": {
    "id": "fRshsy8OBW52",
    "papermill": {
     "duration": 0.0426,
     "end_time": "2020-11-23T18:37:03.609023",
     "exception": false,
     "start_time": "2020-11-23T18:37:03.566423",
     "status": "completed"
    },
    "tags": []
   },
   "source": [
    "## Splitting Data into Training and Testing Sets"
   ]
  },
  {
   "cell_type": "code",
   "execution_count": 11,
   "metadata": {
    "execution": {
     "iopub.execute_input": "2020-11-23T18:37:03.692697Z",
     "iopub.status.busy": "2020-11-23T18:37:03.691845Z",
     "iopub.status.idle": "2020-11-23T18:37:04.473918Z",
     "shell.execute_reply": "2020-11-23T18:37:04.473125Z"
    },
    "id": "OD84Ss_hBW52",
    "papermill": {
     "duration": 0.827784,
     "end_time": "2020-11-23T18:37:04.474041",
     "exception": false,
     "start_time": "2020-11-23T18:37:03.646257",
     "status": "completed"
    },
    "tags": []
   },
   "outputs": [],
   "source": [
    "from sklearn.model_selection import train_test_split\n",
    "X_train, X_test, y_train, y_test = train_test_split(X, y, test_size=0.3 , random_state=0)"
   ]
  },
  {
   "cell_type": "markdown",
   "metadata": {},
   "source": [
    "`random_state` is a parameter in train_test_split that controls the random number generator used to shuffle the data before splitting it. In other words, it ensures that the same randomization is used each time you run the code, resulting in the same splits of the data."
   ]
  },
  {
   "cell_type": "code",
   "execution_count": 12,
   "metadata": {
    "execution": {
     "iopub.execute_input": "2020-11-23T18:37:04.906888Z",
     "iopub.status.busy": "2020-11-23T18:37:04.906149Z",
     "iopub.status.idle": "2020-11-23T18:37:04.910324Z",
     "shell.execute_reply": "2020-11-23T18:37:04.910861Z"
    },
    "id": "P84R5ARrBW52",
    "outputId": "ef70bde7-5c3e-4f2e-f84a-ae1e031feb91",
    "papermill": {
     "duration": 0.049862,
     "end_time": "2020-11-23T18:37:04.911015",
     "exception": false,
     "start_time": "2020-11-23T18:37:04.861153",
     "status": "completed"
    },
    "tags": []
   },
   "outputs": [
    {
     "name": "stdout",
     "output_type": "stream",
     "text": [
      "(700,)\n",
      "(700,)\n",
      "(300,)\n",
      "(300,)\n"
     ]
    }
   ],
   "source": [
    "print(X_train.shape)\n",
    "print(y_train.shape)\n",
    "print(X_test.shape)\n",
    "print(y_test.shape)"
   ]
  },
  {
   "cell_type": "markdown",
   "metadata": {
    "id": "EdeY_F9xBW52",
    "papermill": {
     "duration": 0.0401,
     "end_time": "2020-11-23T18:37:04.993272",
     "exception": false,
     "start_time": "2020-11-23T18:37:04.953172",
     "status": "completed"
    },
    "tags": []
   },
   "source": [
    "## Performing Linear Regression"
   ]
  },
  {
   "cell_type": "code",
   "execution_count": 13,
   "metadata": {
    "execution": {
     "iopub.execute_input": "2020-11-23T18:37:05.079822Z",
     "iopub.status.busy": "2020-11-23T18:37:05.079072Z",
     "iopub.status.idle": "2020-11-23T18:37:05.179404Z",
     "shell.execute_reply": "2020-11-23T18:37:05.179980Z"
    },
    "id": "qL6yPFpABW52",
    "outputId": "fe24ad41-cfc8-4bb0-d11d-8c4b4eb9c6aa",
    "papermill": {
     "duration": 0.146015,
     "end_time": "2020-11-23T18:37:05.180148",
     "exception": false,
     "start_time": "2020-11-23T18:37:05.034133",
     "status": "completed"
    },
    "tags": []
   },
   "outputs": [],
   "source": [
    "# import LinearRegression from sklearn\n",
    "from sklearn.linear_model import LinearRegression\n",
    "\n",
    "# Representing LinearRegression as lr(Creating LinearRegression Object)\n",
    "lr = LinearRegression()\n",
    "\n",
    "# Fit the model using lr.fit()\n",
    "# lr.fit(X_train, y_train) # ERROR"
   ]
  },
  {
   "cell_type": "markdown",
   "metadata": {},
   "source": [
    "### Why does this happen?\n",
    "\n",
    "- If X_train.shape is (700,), it means X_train is a 1D array, but LinearRegression.fit() requires a 2D array with shape (700, n_features).\n",
    "- Reshaping with .reshape(-1, 1) converts a 1D array into a column vector suitable for training."
   ]
  },
  {
   "cell_type": "code",
   "execution_count": 14,
   "metadata": {},
   "outputs": [],
   "source": [
    "X_train = X_train.values.reshape(-1,1)\n",
    "X_test = X_test.values.reshape(-1,1)"
   ]
  },
  {
   "cell_type": "code",
   "execution_count": 15,
   "metadata": {},
   "outputs": [
    {
     "name": "stdout",
     "output_type": "stream",
     "text": [
      "(700, 1)\n",
      "(700,)\n",
      "(300, 1)\n",
      "(300,)\n"
     ]
    }
   ],
   "source": [
    "print(X_train.shape)\n",
    "print(y_train.shape)\n",
    "print(X_test.shape)\n",
    "print(y_test.shape)"
   ]
  },
  {
   "cell_type": "code",
   "execution_count": 16,
   "metadata": {},
   "outputs": [
    {
     "data": {
      "text/html": [
       "<style>#sk-container-id-1 {\n",
       "  /* Definition of color scheme common for light and dark mode */\n",
       "  --sklearn-color-text: #000;\n",
       "  --sklearn-color-text-muted: #666;\n",
       "  --sklearn-color-line: gray;\n",
       "  /* Definition of color scheme for unfitted estimators */\n",
       "  --sklearn-color-unfitted-level-0: #fff5e6;\n",
       "  --sklearn-color-unfitted-level-1: #f6e4d2;\n",
       "  --sklearn-color-unfitted-level-2: #ffe0b3;\n",
       "  --sklearn-color-unfitted-level-3: chocolate;\n",
       "  /* Definition of color scheme for fitted estimators */\n",
       "  --sklearn-color-fitted-level-0: #f0f8ff;\n",
       "  --sklearn-color-fitted-level-1: #d4ebff;\n",
       "  --sklearn-color-fitted-level-2: #b3dbfd;\n",
       "  --sklearn-color-fitted-level-3: cornflowerblue;\n",
       "\n",
       "  /* Specific color for light theme */\n",
       "  --sklearn-color-text-on-default-background: var(--sg-text-color, var(--theme-code-foreground, var(--jp-content-font-color1, black)));\n",
       "  --sklearn-color-background: var(--sg-background-color, var(--theme-background, var(--jp-layout-color0, white)));\n",
       "  --sklearn-color-border-box: var(--sg-text-color, var(--theme-code-foreground, var(--jp-content-font-color1, black)));\n",
       "  --sklearn-color-icon: #696969;\n",
       "\n",
       "  @media (prefers-color-scheme: dark) {\n",
       "    /* Redefinition of color scheme for dark theme */\n",
       "    --sklearn-color-text-on-default-background: var(--sg-text-color, var(--theme-code-foreground, var(--jp-content-font-color1, white)));\n",
       "    --sklearn-color-background: var(--sg-background-color, var(--theme-background, var(--jp-layout-color0, #111)));\n",
       "    --sklearn-color-border-box: var(--sg-text-color, var(--theme-code-foreground, var(--jp-content-font-color1, white)));\n",
       "    --sklearn-color-icon: #878787;\n",
       "  }\n",
       "}\n",
       "\n",
       "#sk-container-id-1 {\n",
       "  color: var(--sklearn-color-text);\n",
       "}\n",
       "\n",
       "#sk-container-id-1 pre {\n",
       "  padding: 0;\n",
       "}\n",
       "\n",
       "#sk-container-id-1 input.sk-hidden--visually {\n",
       "  border: 0;\n",
       "  clip: rect(1px 1px 1px 1px);\n",
       "  clip: rect(1px, 1px, 1px, 1px);\n",
       "  height: 1px;\n",
       "  margin: -1px;\n",
       "  overflow: hidden;\n",
       "  padding: 0;\n",
       "  position: absolute;\n",
       "  width: 1px;\n",
       "}\n",
       "\n",
       "#sk-container-id-1 div.sk-dashed-wrapped {\n",
       "  border: 1px dashed var(--sklearn-color-line);\n",
       "  margin: 0 0.4em 0.5em 0.4em;\n",
       "  box-sizing: border-box;\n",
       "  padding-bottom: 0.4em;\n",
       "  background-color: var(--sklearn-color-background);\n",
       "}\n",
       "\n",
       "#sk-container-id-1 div.sk-container {\n",
       "  /* jupyter's `normalize.less` sets `[hidden] { display: none; }`\n",
       "     but bootstrap.min.css set `[hidden] { display: none !important; }`\n",
       "     so we also need the `!important` here to be able to override the\n",
       "     default hidden behavior on the sphinx rendered scikit-learn.org.\n",
       "     See: https://github.com/scikit-learn/scikit-learn/issues/21755 */\n",
       "  display: inline-block !important;\n",
       "  position: relative;\n",
       "}\n",
       "\n",
       "#sk-container-id-1 div.sk-text-repr-fallback {\n",
       "  display: none;\n",
       "}\n",
       "\n",
       "div.sk-parallel-item,\n",
       "div.sk-serial,\n",
       "div.sk-item {\n",
       "  /* draw centered vertical line to link estimators */\n",
       "  background-image: linear-gradient(var(--sklearn-color-text-on-default-background), var(--sklearn-color-text-on-default-background));\n",
       "  background-size: 2px 100%;\n",
       "  background-repeat: no-repeat;\n",
       "  background-position: center center;\n",
       "}\n",
       "\n",
       "/* Parallel-specific style estimator block */\n",
       "\n",
       "#sk-container-id-1 div.sk-parallel-item::after {\n",
       "  content: \"\";\n",
       "  width: 100%;\n",
       "  border-bottom: 2px solid var(--sklearn-color-text-on-default-background);\n",
       "  flex-grow: 1;\n",
       "}\n",
       "\n",
       "#sk-container-id-1 div.sk-parallel {\n",
       "  display: flex;\n",
       "  align-items: stretch;\n",
       "  justify-content: center;\n",
       "  background-color: var(--sklearn-color-background);\n",
       "  position: relative;\n",
       "}\n",
       "\n",
       "#sk-container-id-1 div.sk-parallel-item {\n",
       "  display: flex;\n",
       "  flex-direction: column;\n",
       "}\n",
       "\n",
       "#sk-container-id-1 div.sk-parallel-item:first-child::after {\n",
       "  align-self: flex-end;\n",
       "  width: 50%;\n",
       "}\n",
       "\n",
       "#sk-container-id-1 div.sk-parallel-item:last-child::after {\n",
       "  align-self: flex-start;\n",
       "  width: 50%;\n",
       "}\n",
       "\n",
       "#sk-container-id-1 div.sk-parallel-item:only-child::after {\n",
       "  width: 0;\n",
       "}\n",
       "\n",
       "/* Serial-specific style estimator block */\n",
       "\n",
       "#sk-container-id-1 div.sk-serial {\n",
       "  display: flex;\n",
       "  flex-direction: column;\n",
       "  align-items: center;\n",
       "  background-color: var(--sklearn-color-background);\n",
       "  padding-right: 1em;\n",
       "  padding-left: 1em;\n",
       "}\n",
       "\n",
       "\n",
       "/* Toggleable style: style used for estimator/Pipeline/ColumnTransformer box that is\n",
       "clickable and can be expanded/collapsed.\n",
       "- Pipeline and ColumnTransformer use this feature and define the default style\n",
       "- Estimators will overwrite some part of the style using the `sk-estimator` class\n",
       "*/\n",
       "\n",
       "/* Pipeline and ColumnTransformer style (default) */\n",
       "\n",
       "#sk-container-id-1 div.sk-toggleable {\n",
       "  /* Default theme specific background. It is overwritten whether we have a\n",
       "  specific estimator or a Pipeline/ColumnTransformer */\n",
       "  background-color: var(--sklearn-color-background);\n",
       "}\n",
       "\n",
       "/* Toggleable label */\n",
       "#sk-container-id-1 label.sk-toggleable__label {\n",
       "  cursor: pointer;\n",
       "  display: flex;\n",
       "  width: 100%;\n",
       "  margin-bottom: 0;\n",
       "  padding: 0.5em;\n",
       "  box-sizing: border-box;\n",
       "  text-align: center;\n",
       "  align-items: start;\n",
       "  justify-content: space-between;\n",
       "  gap: 0.5em;\n",
       "}\n",
       "\n",
       "#sk-container-id-1 label.sk-toggleable__label .caption {\n",
       "  font-size: 0.6rem;\n",
       "  font-weight: lighter;\n",
       "  color: var(--sklearn-color-text-muted);\n",
       "}\n",
       "\n",
       "#sk-container-id-1 label.sk-toggleable__label-arrow:before {\n",
       "  /* Arrow on the left of the label */\n",
       "  content: \"▸\";\n",
       "  float: left;\n",
       "  margin-right: 0.25em;\n",
       "  color: var(--sklearn-color-icon);\n",
       "}\n",
       "\n",
       "#sk-container-id-1 label.sk-toggleable__label-arrow:hover:before {\n",
       "  color: var(--sklearn-color-text);\n",
       "}\n",
       "\n",
       "/* Toggleable content - dropdown */\n",
       "\n",
       "#sk-container-id-1 div.sk-toggleable__content {\n",
       "  max-height: 0;\n",
       "  max-width: 0;\n",
       "  overflow: hidden;\n",
       "  text-align: left;\n",
       "  /* unfitted */\n",
       "  background-color: var(--sklearn-color-unfitted-level-0);\n",
       "}\n",
       "\n",
       "#sk-container-id-1 div.sk-toggleable__content.fitted {\n",
       "  /* fitted */\n",
       "  background-color: var(--sklearn-color-fitted-level-0);\n",
       "}\n",
       "\n",
       "#sk-container-id-1 div.sk-toggleable__content pre {\n",
       "  margin: 0.2em;\n",
       "  border-radius: 0.25em;\n",
       "  color: var(--sklearn-color-text);\n",
       "  /* unfitted */\n",
       "  background-color: var(--sklearn-color-unfitted-level-0);\n",
       "}\n",
       "\n",
       "#sk-container-id-1 div.sk-toggleable__content.fitted pre {\n",
       "  /* unfitted */\n",
       "  background-color: var(--sklearn-color-fitted-level-0);\n",
       "}\n",
       "\n",
       "#sk-container-id-1 input.sk-toggleable__control:checked~div.sk-toggleable__content {\n",
       "  /* Expand drop-down */\n",
       "  max-height: 200px;\n",
       "  max-width: 100%;\n",
       "  overflow: auto;\n",
       "}\n",
       "\n",
       "#sk-container-id-1 input.sk-toggleable__control:checked~label.sk-toggleable__label-arrow:before {\n",
       "  content: \"▾\";\n",
       "}\n",
       "\n",
       "/* Pipeline/ColumnTransformer-specific style */\n",
       "\n",
       "#sk-container-id-1 div.sk-label input.sk-toggleable__control:checked~label.sk-toggleable__label {\n",
       "  color: var(--sklearn-color-text);\n",
       "  background-color: var(--sklearn-color-unfitted-level-2);\n",
       "}\n",
       "\n",
       "#sk-container-id-1 div.sk-label.fitted input.sk-toggleable__control:checked~label.sk-toggleable__label {\n",
       "  background-color: var(--sklearn-color-fitted-level-2);\n",
       "}\n",
       "\n",
       "/* Estimator-specific style */\n",
       "\n",
       "/* Colorize estimator box */\n",
       "#sk-container-id-1 div.sk-estimator input.sk-toggleable__control:checked~label.sk-toggleable__label {\n",
       "  /* unfitted */\n",
       "  background-color: var(--sklearn-color-unfitted-level-2);\n",
       "}\n",
       "\n",
       "#sk-container-id-1 div.sk-estimator.fitted input.sk-toggleable__control:checked~label.sk-toggleable__label {\n",
       "  /* fitted */\n",
       "  background-color: var(--sklearn-color-fitted-level-2);\n",
       "}\n",
       "\n",
       "#sk-container-id-1 div.sk-label label.sk-toggleable__label,\n",
       "#sk-container-id-1 div.sk-label label {\n",
       "  /* The background is the default theme color */\n",
       "  color: var(--sklearn-color-text-on-default-background);\n",
       "}\n",
       "\n",
       "/* On hover, darken the color of the background */\n",
       "#sk-container-id-1 div.sk-label:hover label.sk-toggleable__label {\n",
       "  color: var(--sklearn-color-text);\n",
       "  background-color: var(--sklearn-color-unfitted-level-2);\n",
       "}\n",
       "\n",
       "/* Label box, darken color on hover, fitted */\n",
       "#sk-container-id-1 div.sk-label.fitted:hover label.sk-toggleable__label.fitted {\n",
       "  color: var(--sklearn-color-text);\n",
       "  background-color: var(--sklearn-color-fitted-level-2);\n",
       "}\n",
       "\n",
       "/* Estimator label */\n",
       "\n",
       "#sk-container-id-1 div.sk-label label {\n",
       "  font-family: monospace;\n",
       "  font-weight: bold;\n",
       "  display: inline-block;\n",
       "  line-height: 1.2em;\n",
       "}\n",
       "\n",
       "#sk-container-id-1 div.sk-label-container {\n",
       "  text-align: center;\n",
       "}\n",
       "\n",
       "/* Estimator-specific */\n",
       "#sk-container-id-1 div.sk-estimator {\n",
       "  font-family: monospace;\n",
       "  border: 1px dotted var(--sklearn-color-border-box);\n",
       "  border-radius: 0.25em;\n",
       "  box-sizing: border-box;\n",
       "  margin-bottom: 0.5em;\n",
       "  /* unfitted */\n",
       "  background-color: var(--sklearn-color-unfitted-level-0);\n",
       "}\n",
       "\n",
       "#sk-container-id-1 div.sk-estimator.fitted {\n",
       "  /* fitted */\n",
       "  background-color: var(--sklearn-color-fitted-level-0);\n",
       "}\n",
       "\n",
       "/* on hover */\n",
       "#sk-container-id-1 div.sk-estimator:hover {\n",
       "  /* unfitted */\n",
       "  background-color: var(--sklearn-color-unfitted-level-2);\n",
       "}\n",
       "\n",
       "#sk-container-id-1 div.sk-estimator.fitted:hover {\n",
       "  /* fitted */\n",
       "  background-color: var(--sklearn-color-fitted-level-2);\n",
       "}\n",
       "\n",
       "/* Specification for estimator info (e.g. \"i\" and \"?\") */\n",
       "\n",
       "/* Common style for \"i\" and \"?\" */\n",
       "\n",
       ".sk-estimator-doc-link,\n",
       "a:link.sk-estimator-doc-link,\n",
       "a:visited.sk-estimator-doc-link {\n",
       "  float: right;\n",
       "  font-size: smaller;\n",
       "  line-height: 1em;\n",
       "  font-family: monospace;\n",
       "  background-color: var(--sklearn-color-background);\n",
       "  border-radius: 1em;\n",
       "  height: 1em;\n",
       "  width: 1em;\n",
       "  text-decoration: none !important;\n",
       "  margin-left: 0.5em;\n",
       "  text-align: center;\n",
       "  /* unfitted */\n",
       "  border: var(--sklearn-color-unfitted-level-1) 1pt solid;\n",
       "  color: var(--sklearn-color-unfitted-level-1);\n",
       "}\n",
       "\n",
       ".sk-estimator-doc-link.fitted,\n",
       "a:link.sk-estimator-doc-link.fitted,\n",
       "a:visited.sk-estimator-doc-link.fitted {\n",
       "  /* fitted */\n",
       "  border: var(--sklearn-color-fitted-level-1) 1pt solid;\n",
       "  color: var(--sklearn-color-fitted-level-1);\n",
       "}\n",
       "\n",
       "/* On hover */\n",
       "div.sk-estimator:hover .sk-estimator-doc-link:hover,\n",
       ".sk-estimator-doc-link:hover,\n",
       "div.sk-label-container:hover .sk-estimator-doc-link:hover,\n",
       ".sk-estimator-doc-link:hover {\n",
       "  /* unfitted */\n",
       "  background-color: var(--sklearn-color-unfitted-level-3);\n",
       "  color: var(--sklearn-color-background);\n",
       "  text-decoration: none;\n",
       "}\n",
       "\n",
       "div.sk-estimator.fitted:hover .sk-estimator-doc-link.fitted:hover,\n",
       ".sk-estimator-doc-link.fitted:hover,\n",
       "div.sk-label-container:hover .sk-estimator-doc-link.fitted:hover,\n",
       ".sk-estimator-doc-link.fitted:hover {\n",
       "  /* fitted */\n",
       "  background-color: var(--sklearn-color-fitted-level-3);\n",
       "  color: var(--sklearn-color-background);\n",
       "  text-decoration: none;\n",
       "}\n",
       "\n",
       "/* Span, style for the box shown on hovering the info icon */\n",
       ".sk-estimator-doc-link span {\n",
       "  display: none;\n",
       "  z-index: 9999;\n",
       "  position: relative;\n",
       "  font-weight: normal;\n",
       "  right: .2ex;\n",
       "  padding: .5ex;\n",
       "  margin: .5ex;\n",
       "  width: min-content;\n",
       "  min-width: 20ex;\n",
       "  max-width: 50ex;\n",
       "  color: var(--sklearn-color-text);\n",
       "  box-shadow: 2pt 2pt 4pt #999;\n",
       "  /* unfitted */\n",
       "  background: var(--sklearn-color-unfitted-level-0);\n",
       "  border: .5pt solid var(--sklearn-color-unfitted-level-3);\n",
       "}\n",
       "\n",
       ".sk-estimator-doc-link.fitted span {\n",
       "  /* fitted */\n",
       "  background: var(--sklearn-color-fitted-level-0);\n",
       "  border: var(--sklearn-color-fitted-level-3);\n",
       "}\n",
       "\n",
       ".sk-estimator-doc-link:hover span {\n",
       "  display: block;\n",
       "}\n",
       "\n",
       "/* \"?\"-specific style due to the `<a>` HTML tag */\n",
       "\n",
       "#sk-container-id-1 a.estimator_doc_link {\n",
       "  float: right;\n",
       "  font-size: 1rem;\n",
       "  line-height: 1em;\n",
       "  font-family: monospace;\n",
       "  background-color: var(--sklearn-color-background);\n",
       "  border-radius: 1rem;\n",
       "  height: 1rem;\n",
       "  width: 1rem;\n",
       "  text-decoration: none;\n",
       "  /* unfitted */\n",
       "  color: var(--sklearn-color-unfitted-level-1);\n",
       "  border: var(--sklearn-color-unfitted-level-1) 1pt solid;\n",
       "}\n",
       "\n",
       "#sk-container-id-1 a.estimator_doc_link.fitted {\n",
       "  /* fitted */\n",
       "  border: var(--sklearn-color-fitted-level-1) 1pt solid;\n",
       "  color: var(--sklearn-color-fitted-level-1);\n",
       "}\n",
       "\n",
       "/* On hover */\n",
       "#sk-container-id-1 a.estimator_doc_link:hover {\n",
       "  /* unfitted */\n",
       "  background-color: var(--sklearn-color-unfitted-level-3);\n",
       "  color: var(--sklearn-color-background);\n",
       "  text-decoration: none;\n",
       "}\n",
       "\n",
       "#sk-container-id-1 a.estimator_doc_link.fitted:hover {\n",
       "  /* fitted */\n",
       "  background-color: var(--sklearn-color-fitted-level-3);\n",
       "}\n",
       "</style><div id=\"sk-container-id-1\" class=\"sk-top-container\"><div class=\"sk-text-repr-fallback\"><pre>LinearRegression()</pre><b>In a Jupyter environment, please rerun this cell to show the HTML representation or trust the notebook. <br />On GitHub, the HTML representation is unable to render, please try loading this page with nbviewer.org.</b></div><div class=\"sk-container\" hidden><div class=\"sk-item\"><div class=\"sk-estimator fitted sk-toggleable\"><input class=\"sk-toggleable__control sk-hidden--visually\" id=\"sk-estimator-id-1\" type=\"checkbox\" checked><label for=\"sk-estimator-id-1\" class=\"sk-toggleable__label fitted sk-toggleable__label-arrow\"><div><div>LinearRegression</div></div><div><a class=\"sk-estimator-doc-link fitted\" rel=\"noreferrer\" target=\"_blank\" href=\"https://scikit-learn.org/1.6/modules/generated/sklearn.linear_model.LinearRegression.html\">?<span>Documentation for LinearRegression</span></a><span class=\"sk-estimator-doc-link fitted\">i<span>Fitted</span></span></div></label><div class=\"sk-toggleable__content fitted\"><pre>LinearRegression()</pre></div> </div></div></div></div>"
      ],
      "text/plain": [
       "LinearRegression()"
      ]
     },
     "execution_count": 16,
     "metadata": {},
     "output_type": "execute_result"
    }
   ],
   "source": [
    "# import LinearRegression from sklearn\n",
    "from sklearn.linear_model import LinearRegression\n",
    "\n",
    "# Representing LinearRegression as lr(Creating LinearRegression Object)\n",
    "lr = LinearRegression()\n",
    "\n",
    "# Fit the model using lr.fit()\n",
    "lr.fit(X_train, y_train)"
   ]
  },
  {
   "cell_type": "markdown",
   "metadata": {
    "id": "ZhChGqJ2BW52",
    "papermill": {
     "duration": 0.040717,
     "end_time": "2020-11-23T18:37:05.262076",
     "exception": false,
     "start_time": "2020-11-23T18:37:05.221359",
     "status": "completed"
    },
    "tags": []
   },
   "source": [
    "## Coefficients Calculation"
   ]
  },
  {
   "cell_type": "code",
   "execution_count": 17,
   "metadata": {
    "execution": {
     "iopub.execute_input": "2020-11-23T18:37:05.351781Z",
     "iopub.status.busy": "2020-11-23T18:37:05.350733Z",
     "iopub.status.idle": "2020-11-23T18:37:05.355686Z",
     "shell.execute_reply": "2020-11-23T18:37:05.354662Z"
    },
    "id": "527h4jGWBW52",
    "outputId": "45d60d59-59c1-4b1e-d66e-2c4e6e44f6f7",
    "papermill": {
     "duration": 0.052679,
     "end_time": "2020-11-23T18:37:05.355848",
     "exception": false,
     "start_time": "2020-11-23T18:37:05.303169",
     "status": "completed"
    },
    "scrolled": true,
    "tags": []
   },
   "outputs": [
    {
     "name": "stdout",
     "output_type": "stream",
     "text": [
      "-0.7953241893015246\n",
      "[0.99386597]\n"
     ]
    }
   ],
   "source": [
    "# Print the intercept and coefficients\n",
    "print(lr.intercept_)\n",
    "print(lr.coef_)"
   ]
  },
  {
   "cell_type": "markdown",
   "metadata": {
    "id": "Hm_44AKFBW53",
    "papermill": {
     "duration": 0.041254,
     "end_time": "2020-11-23T18:37:05.439567",
     "exception": false,
     "start_time": "2020-11-23T18:37:05.398313",
     "status": "completed"
    },
    "tags": []
   },
   "source": [
    "$y = -0.79532 + 0.9938 \\times reading score $<br>\n",
    "\n",
    "Now, let's use this equation to predict our writing score."
   ]
  },
  {
   "cell_type": "markdown",
   "metadata": {},
   "source": [
    "## Plotting best fit line:"
   ]
  },
  {
   "cell_type": "code",
   "execution_count": 19,
   "metadata": {},
   "outputs": [
    {
     "data": {
      "image/png": "[encoded data removed]",
      "text/plain": [
       "<Figure size 640x480 with 1 Axes>"
      ]
     },
     "metadata": {},
     "output_type": "display_data"
    }
   ],
   "source": [
    "sns.scatterplot(data=df,x='reading score',y='writing score')\n",
    "plt.plot(X_train,lr.predict(X_train),color='red')\n",
    "plt.show()"
   ]
  },
  {
   "cell_type": "markdown",
   "metadata": {
    "id": "8t8Av_XXBW53",
    "papermill": {
     "duration": 0.041059,
     "end_time": "2020-11-23T18:37:05.521981",
     "exception": false,
     "start_time": "2020-11-23T18:37:05.480922",
     "status": "completed"
    },
    "tags": []
   },
   "source": [
    "## Predictions"
   ]
  },
  {
   "cell_type": "code",
   "execution_count": null,
   "metadata": {
    "execution": {
     "iopub.execute_input": "2020-11-23T18:37:05.611127Z",
     "iopub.status.busy": "2020-11-23T18:37:05.610311Z",
     "iopub.status.idle": "2020-11-23T18:37:05.613752Z",
     "shell.execute_reply": "2020-11-23T18:37:05.613031Z"
    },
    "id": "wJqlolZtBW53",
    "papermill": {
     "duration": 0.050419,
     "end_time": "2020-11-23T18:37:05.613866",
     "exception": false,
     "start_time": "2020-11-23T18:37:05.563447",
     "status": "completed"
    },
    "tags": []
   },
   "outputs": [],
   "source": [
    "# Making predictions on the testing set\n",
    "y_pred = lr.predict(X_test)"
   ]
  },
  {
   "cell_type": "code",
   "execution_count": 21,
   "metadata": {},
   "outputs": [],
   "source": [
    "import numpy as np"
   ]
  },
  {
   "cell_type": "code",
   "execution_count": 24,
   "metadata": {},
   "outputs": [
    {
     "data": {
      "text/plain": [
       "array([-0.79532419])"
      ]
     },
     "execution_count": 24,
     "metadata": {},
     "output_type": "execute_result"
    }
   ],
   "source": [
    "lr.predict(np.array(0).reshape(1,1))"
   ]
  },
  {
   "cell_type": "code",
   "execution_count": null,
   "metadata": {
    "execution": {
     "iopub.execute_input": "2020-11-23T18:37:05.702163Z",
     "iopub.status.busy": "2020-11-23T18:37:05.701261Z",
     "iopub.status.idle": "2020-11-23T18:37:05.705434Z",
     "shell.execute_reply": "2020-11-23T18:37:05.704874Z"
    },
    "id": "4u4Cz-xqBW53",
    "outputId": "b0d8415b-b6c7-4b39-d8d2-a13bc41c54d8",
    "papermill": {
     "duration": 0.050307,
     "end_time": "2020-11-23T18:37:05.705582",
     "exception": false,
     "start_time": "2020-11-23T18:37:05.655275",
     "status": "completed"
    },
    "tags": []
   },
   "outputs": [
    {
     "data": {
      "text/plain": [
       "numpy.ndarray"
      ]
     },
     "execution_count": 19,
     "metadata": {},
     "output_type": "execute_result"
    }
   ],
   "source": [
    "type(y_pred)"
   ]
  },
  {
   "cell_type": "markdown",
   "metadata": {
    "collapsed": true,
    "id": "42DUHkQzBW53",
    "papermill": {
     "duration": 0.041461,
     "end_time": "2020-11-23T18:37:05.789118",
     "exception": false,
     "start_time": "2020-11-23T18:37:05.747657",
     "status": "completed"
    },
    "tags": []
   },
   "source": [
    "#### Evaluation Metrics:\n",
    "\n",
    "- Root Mean Squared Error (RMSE) – Square root of MSE, giving errors in the same unit as the target variable.\n",
    "- R² Score (Coefficient of Determination) – Measures how well the model explains the variance in the dependent variable."
   ]
  },
  {
   "cell_type": "code",
   "execution_count": null,
   "metadata": {
    "execution": {
     "iopub.execute_input": "2020-11-23T18:37:05.879161Z",
     "iopub.status.busy": "2020-11-23T18:37:05.878119Z",
     "iopub.status.idle": "2020-11-23T18:37:05.882672Z",
     "shell.execute_reply": "2020-11-23T18:37:05.882049Z"
    },
    "id": "yRt2E6pIK9h1",
    "outputId": "64ea703a-d923-4c1d-d0bd-202be086239e",
    "papermill": {
     "duration": 0.051871,
     "end_time": "2020-11-23T18:37:05.882797",
     "exception": false,
     "start_time": "2020-11-23T18:37:05.830926",
     "status": "completed"
    },
    "tags": []
   },
   "outputs": [
    {
     "data": {
      "text/plain": [
       "(300,)"
      ]
     },
     "execution_count": 20,
     "metadata": {},
     "output_type": "execute_result"
    }
   ],
   "source": [
    "y_test.shape # cheek the shape to generate the index for plot"
   ]
  },
  {
   "cell_type": "code",
   "execution_count": null,
   "metadata": {
    "execution": {
     "iopub.execute_input": "2020-11-23T18:37:06.010519Z",
     "iopub.status.busy": "2020-11-23T18:37:06.003594Z",
     "iopub.status.idle": "2020-11-23T18:37:06.196203Z",
     "shell.execute_reply": "2020-11-23T18:37:06.196820Z"
    },
    "id": "beUEVjg3Jb_h",
    "outputId": "bdb68398-759e-4f78-b568-a32fab391ec6",
    "papermill": {
     "duration": 0.270674,
     "end_time": "2020-11-23T18:37:06.196972",
     "exception": false,
     "start_time": "2020-11-23T18:37:05.926298",
     "status": "completed"
    },
    "tags": []
   },
   "outputs": [
    {
     "data": {
      "text/plain": [
       "Text(0, 0.5, 'Output')"
      ]
     },
     "execution_count": 21,
     "metadata": {},
     "output_type": "execute_result"
    },
    {
     "data": {
      "image/png": "[encoded data removed]",
      "text/plain": [
       "<Figure size 1200x400 with 1 Axes>"
      ]
     },
     "metadata": {},
     "output_type": "display_data"
    }
   ],
   "source": [
    "# Actual vs Predicted\n",
    "import matplotlib.pyplot as plt\n",
    "\n",
    "c = [i for i in range(1,301)] # generating index \n",
    "\n",
    "fig = plt.figure(figsize=(12,4))\n",
    "plt.plot(c,y_test, color=\"blue\", linewidth=2, linestyle=\"-\")\n",
    "plt.plot(c,y_pred, color=\"red\",  linewidth=1, linestyle=\"-\")\n",
    "fig.suptitle('Actual and Predicted')              \n",
    "plt.xlabel('Index')                               \n",
    "plt.ylabel('Output')                               "
   ]
  },
  {
   "cell_type": "code",
   "execution_count": null,
   "metadata": {
    "execution": {
     "iopub.execute_input": "2020-11-23T18:37:06.587687Z",
     "iopub.status.busy": "2020-11-23T18:37:06.586804Z",
     "iopub.status.idle": "2020-11-23T18:37:06.589619Z",
     "shell.execute_reply": "2020-11-23T18:37:06.588906Z"
    },
    "id": "rJKwrhrABW53",
    "papermill": {
     "duration": 0.054552,
     "end_time": "2020-11-23T18:37:06.589735",
     "exception": false,
     "start_time": "2020-11-23T18:37:06.535183",
     "status": "completed"
    },
    "tags": []
   },
   "outputs": [],
   "source": [
    "from sklearn.metrics import root_mean_squared_error, r2_score\n",
    "rmse = root_mean_squared_error(y_test, y_pred)"
   ]
  },
  {
   "cell_type": "code",
   "execution_count": null,
   "metadata": {
    "execution": {
     "iopub.execute_input": "2020-11-23T18:37:06.689431Z",
     "iopub.status.busy": "2020-11-23T18:37:06.688478Z",
     "iopub.status.idle": "2020-11-23T18:37:06.691134Z",
     "shell.execute_reply": "2020-11-23T18:37:06.691676Z"
    },
    "id": "v6OraM7mBW53",
    "papermill": {
     "duration": 0.05547,
     "end_time": "2020-11-23T18:37:06.691836",
     "exception": false,
     "start_time": "2020-11-23T18:37:06.636366",
     "status": "completed"
    },
    "tags": []
   },
   "outputs": [],
   "source": [
    "r_squared = r2_score(y_test, y_pred)"
   ]
  },
  {
   "cell_type": "code",
   "execution_count": null,
   "metadata": {
    "execution": {
     "iopub.execute_input": "2020-11-23T18:37:06.791470Z",
     "iopub.status.busy": "2020-11-23T18:37:06.790396Z",
     "iopub.status.idle": "2020-11-23T18:37:06.795633Z",
     "shell.execute_reply": "2020-11-23T18:37:06.795031Z"
    },
    "id": "osv85GbBBW53",
    "outputId": "8cd66d2c-988a-45ce-9f76-84518bed87a2",
    "papermill": {
     "duration": 0.05735,
     "end_time": "2020-11-23T18:37:06.795754",
     "exception": false,
     "start_time": "2020-11-23T18:37:06.738404",
     "status": "completed"
    },
    "tags": []
   },
   "outputs": [
    {
     "name": "stdout",
     "output_type": "stream",
     "text": [
      "Mean_Squared_Error : 4.112072053676197\n",
      "r_square_value : 0.9206222738934423\n"
     ]
    }
   ],
   "source": [
    "print('Mean_Squared_Error :' ,rmse)\n",
    "print('r_square_value :',r_squared)"
   ]
  },
  {
   "cell_type": "markdown",
   "metadata": {
    "execution": {
     "iopub.execute_input": "2020-11-23T18:37:06.895472Z",
     "iopub.status.busy": "2020-11-23T18:37:06.894647Z",
     "iopub.status.idle": "2020-11-23T18:37:06.897416Z",
     "shell.execute_reply": "2020-11-23T18:37:06.898040Z"
    },
    "id": "cvBH_rcAQFSv",
    "papermill": {
     "duration": 0.055041,
     "end_time": "2020-11-23T18:37:06.898190",
     "exception": false,
     "start_time": "2020-11-23T18:37:06.843149",
     "status": "completed"
    },
    "tags": []
   },
   "source": [
    "r2_score = 0.9206 means that your model is 92.06% is accurate on test data."
   ]
  }
 ],
 "metadata": {
  "kernelspec": {
   "display_name": "Python 3",
   "language": "python",
   "name": "python3"
  },
  "language_info": {
   "codemirror_mode": {
    "name": "ipython",
    "version": 3
   },
   "file_extension": ".py",
   "mimetype": "text/x-python",
   "name": "python",
   "nbconvert_exporter": "python",
   "pygments_lexer": "ipython3",
   "version": "3.13.1"
  },
  "papermill": {
   "duration": 10.219842,
   "end_time": "2020-11-23T18:37:07.394464",
   "environment_variables": {},
   "exception": null,
   "input_path": "__notebook__.ipynb",
   "output_path": "__notebook__.ipynb",
   "parameters": {},
   "start_time": "2020-11-23T18:36:57.174622",
   "version": "2.1.0"
  }
 },
 "nbformat": 4,
 "nbformat_minor": 4
}
